{
  "nbformat": 4,
  "nbformat_minor": 0,
  "metadata": {
    "colab": {
      "provenance": [],
      "toc_visible": true,
      "authorship_tag": "ABX9TyOeYAE/a4/GnYebdXfwk3RQ",
      "include_colab_link": true
    },
    "kernelspec": {
      "name": "python3",
      "display_name": "Python 3"
    },
    "language_info": {
      "name": "python"
    }
  },
  "cells": [
    {
      "cell_type": "markdown",
      "metadata": {
        "id": "view-in-github",
        "colab_type": "text"
      },
      "source": [
        "<a href=\"https://colab.research.google.com/github/jyimz/Python_Data_Projects/blob/main/CEO_Compensation_Analysis_with_Linear_Regression.ipynb\" target=\"_parent\"><img src=\"https://colab.research.google.com/assets/colab-badge.svg\" alt=\"Open In Colab\"/></a>"
      ]
    },
    {
      "cell_type": "code",
      "execution_count": null,
      "metadata": {
        "colab": {
          "base_uri": "https://localhost:8080/"
        },
        "id": "a0L4drNwGauo",
        "outputId": "e58c59fe-fe69-4732-ffdc-202ba537cad1"
      },
      "outputs": [
        {
          "output_type": "execute_result",
          "data": {
            "text/plain": [
              "0      89\n",
              "1      19\n",
              "2      24\n",
              "3       8\n",
              "4      28\n",
              "5     -16\n",
              "6     -17\n",
              "7     -67\n",
              "8      49\n",
              "9     -27\n",
              "10     26\n",
              "11     -7\n",
              "12     -7\n",
              "13     -4\n",
              "14     50\n",
              "15    -20\n",
              "16    -24\n",
              "17     64\n",
              "18    -58\n",
              "19    -73\n",
              "20     31\n",
              "21     66\n",
              "22     -4\n",
              "23     55\n",
              "24     10\n",
              "25     -5\n",
              "26     28\n",
              "27    -36\n",
              "28     72\n",
              "29      5\n",
              "30    -16\n",
              "31     51\n",
              "32     -7\n",
              "33    122\n",
              "34    -41\n",
              "35    -35\n",
              "36     19\n",
              "37     76\n",
              "38    -48\n",
              "39     64\n",
              "40    104\n",
              "41     99\n",
              "42    -12\n",
              "43     20\n",
              "44    -18\n",
              "45     27\n",
              "46     41\n",
              "47    -41\n",
              "48     87\n",
              "49    -34\n",
              "Name: ChangeCompanySales, dtype: int64"
            ]
          },
          "metadata": {},
          "execution_count": 48
        }
      ],
      "source": [
        "# Required libraries\n",
        "import pandas as pd\n",
        "import statsmodels.formula.api as smf\n",
        "import numpy as np\n",
        "CEOcomp = pd.read_csv(\"https://raw.githubusercontent.com/amandeep0/IS451/main/data/CEOcomp.csv\")\n",
        "# CEOcomp.head()\n",
        "# CEOcomp.shape()\n",
        "# CEOcomp.tail()\n",
        "\n",
        "# col = CEOcomp.columns\n",
        "# index = CEOcomp.index\n",
        "# data = CEOcomp.to_numpy()\n",
        "\n",
        "# type(index)\n",
        "# CEOcomp.info()\n",
        "# CEOcomp.dtypes.value_counts()\n",
        "# CEOcomp\n",
        "\n",
        "# CEOcomp[\"ChangeCompanySales\"]\n",
        "# CEOcomp.ChangeCompanySales\n",
        "\n",
        "# CEOcomp.iloc[:, 1]\n",
        "# CEOcomp.loc[:,\"ChangeCompanySales\"]"
      ]
    },
    {
      "cell_type": "code",
      "source": [
        "# Fit a linear regression model\n",
        "CEO_linReg = smf.ols(\"TotalCompensation ~ Years + ChangeStockPrice + ChangeCompanySales +MBA\", data = CEOcomp)\n",
        "CEO_linReg_results = CEO_linReg.fit()\n",
        "\n",
        "# CEO_linReg\n",
        "# CEO_linReg_results\n"
      ],
      "metadata": {
        "id": "JXbFhUA0HFwD"
      },
      "execution_count": null,
      "outputs": []
    },
    {
      "cell_type": "code",
      "source": [
        "# Print a summary of the model\n",
        "print(CEO_linReg_results.summary())"
      ],
      "metadata": {
        "colab": {
          "base_uri": "https://localhost:8080/"
        },
        "id": "KWynAM-JHNUd",
        "outputId": "15709a90-1da0-459b-c046-62dc0ffb4a11"
      },
      "execution_count": null,
      "outputs": [
        {
          "output_type": "stream",
          "name": "stdout",
          "text": [
            "                            OLS Regression Results                            \n",
            "==============================================================================\n",
            "Dep. Variable:      TotalCompensation   R-squared:                       0.749\n",
            "Model:                            OLS   Adj. R-squared:                  0.726\n",
            "Method:                 Least Squares   F-statistic:                     33.48\n",
            "Date:                Mon, 23 Oct 2023   Prob (F-statistic):           5.80e-13\n",
            "Time:                        19:57:40   Log-Likelihood:                -370.61\n",
            "No. Observations:                  50   AIC:                             751.2\n",
            "Df Residuals:                      45   BIC:                             760.8\n",
            "Df Model:                           4                                         \n",
            "Covariance Type:            nonrobust                                         \n",
            "======================================================================================\n",
            "                         coef    std err          t      P>|t|      [0.025      0.975]\n",
            "--------------------------------------------------------------------------------------\n",
            "Intercept             -1.5933    155.914     -0.010      0.992    -315.620     312.434\n",
            "Years                190.5883     33.514      5.687      0.000     123.088     258.088\n",
            "ChangeStockPrice       1.5884      2.674      0.594      0.556      -3.798       6.974\n",
            "ChangeCompanySales     1.0127      1.315      0.770      0.445      -1.636       3.661\n",
            "MBA                  304.7163    139.869      2.179      0.035      23.007     586.426\n",
            "==============================================================================\n",
            "Omnibus:                        5.884   Durbin-Watson:                   1.559\n",
            "Prob(Omnibus):                  0.053   Jarque-Bera (JB):                4.988\n",
            "Skew:                           0.754   Prob(JB):                       0.0826\n",
            "Kurtosis:                       3.346   Cond. No.                         150.\n",
            "==============================================================================\n",
            "\n",
            "Notes:\n",
            "[1] Standard Errors assume that the covariance matrix of the errors is correctly specified.\n"
          ]
        }
      ]
    },
    {
      "cell_type": "code",
      "source": [
        "# Compute correlation between two columns\n",
        "correlation = CEOcomp['TotalCompensation'].corr(CEOcomp['Years'])\n",
        "print(f\"\\nCorrelation between TotalCompensation and Years: {correlation:.3f}\")\n"
      ],
      "metadata": {
        "colab": {
          "base_uri": "https://localhost:8080/"
        },
        "id": "Syzz0K07HUnu",
        "outputId": "2a3a0b11-66af-425f-f020-b71aa110dd35"
      },
      "execution_count": null,
      "outputs": [
        {
          "output_type": "stream",
          "name": "stdout",
          "text": [
            "\n",
            "Correlation between TotalCompensation and Years: 0.846\n"
          ]
        }
      ]
    },
    {
      "cell_type": "code",
      "source": [
        "# Compute correlation matrix for the entire dataset\n",
        "correlation_matrix = CEOcomp.corr()\n",
        "print(\"\\nCorrelation matrix:\")\n",
        "print(correlation_matrix)\n"
      ],
      "metadata": {
        "colab": {
          "base_uri": "https://localhost:8080/"
        },
        "id": "QO4s4jGqHoJK",
        "outputId": "6db3d415-019c-4a1f-d5a6-425ac633d822"
      },
      "execution_count": null,
      "outputs": [
        {
          "output_type": "stream",
          "name": "stdout",
          "text": [
            "\n",
            "Correlation matrix:\n",
            "                    CompanyNumber  TotalCompensation     Years  \\\n",
            "CompanyNumber            1.000000           0.123416  0.073644   \n",
            "TotalCompensation        0.123416           1.000000  0.845638   \n",
            "Years                    0.073644           0.845638  1.000000   \n",
            "ChangeStockPrice        -0.067989           0.698247  0.779960   \n",
            "ChangeCompanySales       0.118966           0.162545  0.115503   \n",
            "MBA                      0.162375           0.512749  0.430976   \n",
            "\n",
            "                    ChangeStockPrice  ChangeCompanySales       MBA  \n",
            "CompanyNumber              -0.067989            0.118966  0.162375  \n",
            "TotalCompensation           0.698247            0.162545  0.512749  \n",
            "Years                       0.779960            0.115503  0.430976  \n",
            "ChangeStockPrice            1.000000            0.199870  0.358076  \n",
            "ChangeCompanySales          0.199870            1.000000  0.043415  \n",
            "MBA                         0.358076            0.043415  1.000000  \n"
          ]
        }
      ]
    },
    {
      "cell_type": "code",
      "source": [
        "# Required libraries\n",
        "import pandas as pd\n",
        "import statsmodels.formula.api as smf\n",
        "import numpy as np\n",
        "\n",
        "# Use pandas to read the CSV data\n",
        "CEOcomp = pd.read_csv(\"https://raw.githubusercontent.com/amandeep0/IS451/main/data/CEOcomp.csv\")\n",
        "\n",
        "# Fit a linear regression model\n",
        "CEO_linReg = smf.ols(\"TotalCompensation ~ Years + ChangeStockPrice + ChangeCompanySales +MBA\", data = CEOcomp)\n",
        "CEO_linReg_results = CEO_linReg.fit()\n",
        "\n",
        "# Print a summary of the model\n",
        "print(CEO_linReg_results.summary())\n",
        "\n",
        "# Compute correlation between two columns\n",
        "correlation = CEOcomp['TotalCompensation'].corr(CEOcomp['Years'])\n",
        "print(f\"\\nCorrelation between TotalCompensation and Years: {correlation:.3f}\")\n",
        "\n",
        "# Compute correlation matrix for the entire dataset\n",
        "correlation_matrix = CEOcomp.corr()\n",
        "print(\"\\nCorrelation matrix:\")\n",
        "print(correlation_matrix)\n"
      ],
      "metadata": {
        "colab": {
          "base_uri": "https://localhost:8080/"
        },
        "id": "z7SSIqAWH_SV",
        "outputId": "8911b3e5-e657-4a23-f44e-a94d57733173"
      },
      "execution_count": null,
      "outputs": [
        {
          "output_type": "stream",
          "name": "stdout",
          "text": [
            "                            OLS Regression Results                            \n",
            "==============================================================================\n",
            "Dep. Variable:      TotalCompensation   R-squared:                       0.749\n",
            "Model:                            OLS   Adj. R-squared:                  0.726\n",
            "Method:                 Least Squares   F-statistic:                     33.48\n",
            "Date:                Mon, 23 Oct 2023   Prob (F-statistic):           5.80e-13\n",
            "Time:                        20:01:22   Log-Likelihood:                -370.61\n",
            "No. Observations:                  50   AIC:                             751.2\n",
            "Df Residuals:                      45   BIC:                             760.8\n",
            "Df Model:                           4                                         \n",
            "Covariance Type:            nonrobust                                         \n",
            "======================================================================================\n",
            "                         coef    std err          t      P>|t|      [0.025      0.975]\n",
            "--------------------------------------------------------------------------------------\n",
            "Intercept             -1.5933    155.914     -0.010      0.992    -315.620     312.434\n",
            "Years                190.5883     33.514      5.687      0.000     123.088     258.088\n",
            "ChangeStockPrice       1.5884      2.674      0.594      0.556      -3.798       6.974\n",
            "ChangeCompanySales     1.0127      1.315      0.770      0.445      -1.636       3.661\n",
            "MBA                  304.7163    139.869      2.179      0.035      23.007     586.426\n",
            "==============================================================================\n",
            "Omnibus:                        5.884   Durbin-Watson:                   1.559\n",
            "Prob(Omnibus):                  0.053   Jarque-Bera (JB):                4.988\n",
            "Skew:                           0.754   Prob(JB):                       0.0826\n",
            "Kurtosis:                       3.346   Cond. No.                         150.\n",
            "==============================================================================\n",
            "\n",
            "Notes:\n",
            "[1] Standard Errors assume that the covariance matrix of the errors is correctly specified.\n",
            "\n",
            "Correlation between TotalCompensation and Years: 0.846\n",
            "\n",
            "Correlation matrix:\n",
            "                    CompanyNumber  TotalCompensation     Years  \\\n",
            "CompanyNumber            1.000000           0.123416  0.073644   \n",
            "TotalCompensation        0.123416           1.000000  0.845638   \n",
            "Years                    0.073644           0.845638  1.000000   \n",
            "ChangeStockPrice        -0.067989           0.698247  0.779960   \n",
            "ChangeCompanySales       0.118966           0.162545  0.115503   \n",
            "MBA                      0.162375           0.512749  0.430976   \n",
            "\n",
            "                    ChangeStockPrice  ChangeCompanySales       MBA  \n",
            "CompanyNumber              -0.067989            0.118966  0.162375  \n",
            "TotalCompensation           0.698247            0.162545  0.512749  \n",
            "Years                       0.779960            0.115503  0.430976  \n",
            "ChangeStockPrice            1.000000            0.199870  0.358076  \n",
            "ChangeCompanySales          0.199870            1.000000  0.043415  \n",
            "MBA                         0.358076            0.043415  1.000000  \n"
          ]
        }
      ]
    },
    {
      "cell_type": "code",
      "source": [
        "'''\n",
        "In the 4-variable regression model, the variables \"Years\" and \"MBA\" are significant predictors of Total Compensation.\n",
        "They have p-values less than 0.05, indicating that their coefficients are statistically significant and their relationships with Total Compensation are unlikely to occur by chance.\n",
        "\n",
        "The coefficients for \"Years\" and \"MBA\" are 190.5883 and 304.7163, respectively.\n",
        "This means that for every additional year of experience, the Total Compensation is expected to increase by 190.5883 units.\n",
        "Similarly, CEOs with an MBA are expected to receive an additional 304.7163 units of Total Compensation compared to those without an MBA.\n",
        "\n",
        "The variables \"ChangeStockPrice\" and \"ChangeCompanySales\" do not have p-values less than 0.05, indicating that they are not significant predictors of Total Compensation in this model.\n",
        "The coefficients for these variables are 1.5884 and 1.0127, respectively, but these coefficients are not statistically significant.\n",
        "'''"
      ],
      "metadata": {
        "id": "21LJn1FiICfa"
      },
      "execution_count": null,
      "outputs": []
    }
  ]
}