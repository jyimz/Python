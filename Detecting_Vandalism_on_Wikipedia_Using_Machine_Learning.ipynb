{
  "cells": [
    {
      "cell_type": "markdown",
      "metadata": {
        "id": "view-in-github",
        "colab_type": "text"
      },
      "source": [
        "<a href=\"https://colab.research.google.com/github/jyimz/Python_Data_Projects/blob/main/Detecting_Vandalism_on_Wikipedia_Using_Machine_Learning.ipynb\" target=\"_parent\"><img src=\"https://colab.research.google.com/assets/colab-badge.svg\" alt=\"Open In Colab\"/></a>"
      ]
    },
    {
      "cell_type": "code",
      "execution_count": null,
      "metadata": {
        "colab": {
          "base_uri": "https://localhost:8080/",
          "height": 206
        },
        "id": "z-Ayhq_O78Qw",
        "outputId": "b0c6d458-7d81-4b60-fe0c-3202b0cd5a7a"
      },
      "outputs": [
        {
          "data": {
            "text/html": [
              "\n",
              "  <div id=\"df-c07ae9c2-f70e-4c54-8105-513c7efd6442\" class=\"colab-df-container\">\n",
              "    <div>\n",
              "<style scoped>\n",
              "    .dataframe tbody tr th:only-of-type {\n",
              "        vertical-align: middle;\n",
              "    }\n",
              "\n",
              "    .dataframe tbody tr th {\n",
              "        vertical-align: top;\n",
              "    }\n",
              "\n",
              "    .dataframe thead th {\n",
              "        text-align: right;\n",
              "    }\n",
              "</style>\n",
              "<table border=\"1\" class=\"dataframe\">\n",
              "  <thead>\n",
              "    <tr style=\"text-align: right;\">\n",
              "      <th></th>\n",
              "      <th>Vandal</th>\n",
              "      <th>Minor</th>\n",
              "      <th>LoggedIn</th>\n",
              "      <th>HTTP</th>\n",
              "      <th>NumWordsAdded</th>\n",
              "      <th>NumWordsRemoved</th>\n",
              "    </tr>\n",
              "  </thead>\n",
              "  <tbody>\n",
              "    <tr>\n",
              "      <th>0</th>\n",
              "      <td>0</td>\n",
              "      <td>1</td>\n",
              "      <td>1</td>\n",
              "      <td>1</td>\n",
              "      <td>96</td>\n",
              "      <td>0</td>\n",
              "    </tr>\n",
              "    <tr>\n",
              "      <th>1</th>\n",
              "      <td>0</td>\n",
              "      <td>1</td>\n",
              "      <td>1</td>\n",
              "      <td>0</td>\n",
              "      <td>3</td>\n",
              "      <td>1</td>\n",
              "    </tr>\n",
              "    <tr>\n",
              "      <th>2</th>\n",
              "      <td>0</td>\n",
              "      <td>0</td>\n",
              "      <td>1</td>\n",
              "      <td>0</td>\n",
              "      <td>0</td>\n",
              "      <td>4</td>\n",
              "    </tr>\n",
              "    <tr>\n",
              "      <th>3</th>\n",
              "      <td>0</td>\n",
              "      <td>1</td>\n",
              "      <td>0</td>\n",
              "      <td>0</td>\n",
              "      <td>10</td>\n",
              "      <td>92</td>\n",
              "    </tr>\n",
              "    <tr>\n",
              "      <th>4</th>\n",
              "      <td>0</td>\n",
              "      <td>1</td>\n",
              "      <td>1</td>\n",
              "      <td>1</td>\n",
              "      <td>94</td>\n",
              "      <td>10</td>\n",
              "    </tr>\n",
              "  </tbody>\n",
              "</table>\n",
              "</div>\n",
              "    <div class=\"colab-df-buttons\">\n",
              "\n",
              "  <div class=\"colab-df-container\">\n",
              "    <button class=\"colab-df-convert\" onclick=\"convertToInteractive('df-c07ae9c2-f70e-4c54-8105-513c7efd6442')\"\n",
              "            title=\"Convert this dataframe to an interactive table.\"\n",
              "            style=\"display:none;\">\n",
              "\n",
              "  <svg xmlns=\"http://www.w3.org/2000/svg\" height=\"24px\" viewBox=\"0 -960 960 960\">\n",
              "    <path d=\"M120-120v-720h720v720H120Zm60-500h600v-160H180v160Zm220 220h160v-160H400v160Zm0 220h160v-160H400v160ZM180-400h160v-160H180v160Zm440 0h160v-160H620v160ZM180-180h160v-160H180v160Zm440 0h160v-160H620v160Z\"/>\n",
              "  </svg>\n",
              "    </button>\n",
              "\n",
              "  <style>\n",
              "    .colab-df-container {\n",
              "      display:flex;\n",
              "      gap: 12px;\n",
              "    }\n",
              "\n",
              "    .colab-df-convert {\n",
              "      background-color: #E8F0FE;\n",
              "      border: none;\n",
              "      border-radius: 50%;\n",
              "      cursor: pointer;\n",
              "      display: none;\n",
              "      fill: #1967D2;\n",
              "      height: 32px;\n",
              "      padding: 0 0 0 0;\n",
              "      width: 32px;\n",
              "    }\n",
              "\n",
              "    .colab-df-convert:hover {\n",
              "      background-color: #E2EBFA;\n",
              "      box-shadow: 0px 1px 2px rgba(60, 64, 67, 0.3), 0px 1px 3px 1px rgba(60, 64, 67, 0.15);\n",
              "      fill: #174EA6;\n",
              "    }\n",
              "\n",
              "    .colab-df-buttons div {\n",
              "      margin-bottom: 4px;\n",
              "    }\n",
              "\n",
              "    [theme=dark] .colab-df-convert {\n",
              "      background-color: #3B4455;\n",
              "      fill: #D2E3FC;\n",
              "    }\n",
              "\n",
              "    [theme=dark] .colab-df-convert:hover {\n",
              "      background-color: #434B5C;\n",
              "      box-shadow: 0px 1px 3px 1px rgba(0, 0, 0, 0.15);\n",
              "      filter: drop-shadow(0px 1px 2px rgba(0, 0, 0, 0.3));\n",
              "      fill: #FFFFFF;\n",
              "    }\n",
              "  </style>\n",
              "\n",
              "    <script>\n",
              "      const buttonEl =\n",
              "        document.querySelector('#df-c07ae9c2-f70e-4c54-8105-513c7efd6442 button.colab-df-convert');\n",
              "      buttonEl.style.display =\n",
              "        google.colab.kernel.accessAllowed ? 'block' : 'none';\n",
              "\n",
              "      async function convertToInteractive(key) {\n",
              "        const element = document.querySelector('#df-c07ae9c2-f70e-4c54-8105-513c7efd6442');\n",
              "        const dataTable =\n",
              "          await google.colab.kernel.invokeFunction('convertToInteractive',\n",
              "                                                    [key], {});\n",
              "        if (!dataTable) return;\n",
              "\n",
              "        const docLinkHtml = 'Like what you see? Visit the ' +\n",
              "          '<a target=\"_blank\" href=https://colab.research.google.com/notebooks/data_table.ipynb>data table notebook</a>'\n",
              "          + ' to learn more about interactive tables.';\n",
              "        element.innerHTML = '';\n",
              "        dataTable['output_type'] = 'display_data';\n",
              "        await google.colab.output.renderOutput(dataTable, element);\n",
              "        const docLink = document.createElement('div');\n",
              "        docLink.innerHTML = docLinkHtml;\n",
              "        element.appendChild(docLink);\n",
              "      }\n",
              "    </script>\n",
              "  </div>\n",
              "\n",
              "\n",
              "<div id=\"df-adf58b0b-87f7-4c79-b3fd-d72f736a9c16\">\n",
              "  <button class=\"colab-df-quickchart\" onclick=\"quickchart('df-adf58b0b-87f7-4c79-b3fd-d72f736a9c16')\"\n",
              "            title=\"Suggest charts\"\n",
              "            style=\"display:none;\">\n",
              "\n",
              "<svg xmlns=\"http://www.w3.org/2000/svg\" height=\"24px\"viewBox=\"0 0 24 24\"\n",
              "     width=\"24px\">\n",
              "    <g>\n",
              "        <path d=\"M19 3H5c-1.1 0-2 .9-2 2v14c0 1.1.9 2 2 2h14c1.1 0 2-.9 2-2V5c0-1.1-.9-2-2-2zM9 17H7v-7h2v7zm4 0h-2V7h2v10zm4 0h-2v-4h2v4z\"/>\n",
              "    </g>\n",
              "</svg>\n",
              "  </button>\n",
              "\n",
              "<style>\n",
              "  .colab-df-quickchart {\n",
              "      --bg-color: #E8F0FE;\n",
              "      --fill-color: #1967D2;\n",
              "      --hover-bg-color: #E2EBFA;\n",
              "      --hover-fill-color: #174EA6;\n",
              "      --disabled-fill-color: #AAA;\n",
              "      --disabled-bg-color: #DDD;\n",
              "  }\n",
              "\n",
              "  [theme=dark] .colab-df-quickchart {\n",
              "      --bg-color: #3B4455;\n",
              "      --fill-color: #D2E3FC;\n",
              "      --hover-bg-color: #434B5C;\n",
              "      --hover-fill-color: #FFFFFF;\n",
              "      --disabled-bg-color: #3B4455;\n",
              "      --disabled-fill-color: #666;\n",
              "  }\n",
              "\n",
              "  .colab-df-quickchart {\n",
              "    background-color: var(--bg-color);\n",
              "    border: none;\n",
              "    border-radius: 50%;\n",
              "    cursor: pointer;\n",
              "    display: none;\n",
              "    fill: var(--fill-color);\n",
              "    height: 32px;\n",
              "    padding: 0;\n",
              "    width: 32px;\n",
              "  }\n",
              "\n",
              "  .colab-df-quickchart:hover {\n",
              "    background-color: var(--hover-bg-color);\n",
              "    box-shadow: 0 1px 2px rgba(60, 64, 67, 0.3), 0 1px 3px 1px rgba(60, 64, 67, 0.15);\n",
              "    fill: var(--button-hover-fill-color);\n",
              "  }\n",
              "\n",
              "  .colab-df-quickchart-complete:disabled,\n",
              "  .colab-df-quickchart-complete:disabled:hover {\n",
              "    background-color: var(--disabled-bg-color);\n",
              "    fill: var(--disabled-fill-color);\n",
              "    box-shadow: none;\n",
              "  }\n",
              "\n",
              "  .colab-df-spinner {\n",
              "    border: 2px solid var(--fill-color);\n",
              "    border-color: transparent;\n",
              "    border-bottom-color: var(--fill-color);\n",
              "    animation:\n",
              "      spin 1s steps(1) infinite;\n",
              "  }\n",
              "\n",
              "  @keyframes spin {\n",
              "    0% {\n",
              "      border-color: transparent;\n",
              "      border-bottom-color: var(--fill-color);\n",
              "      border-left-color: var(--fill-color);\n",
              "    }\n",
              "    20% {\n",
              "      border-color: transparent;\n",
              "      border-left-color: var(--fill-color);\n",
              "      border-top-color: var(--fill-color);\n",
              "    }\n",
              "    30% {\n",
              "      border-color: transparent;\n",
              "      border-left-color: var(--fill-color);\n",
              "      border-top-color: var(--fill-color);\n",
              "      border-right-color: var(--fill-color);\n",
              "    }\n",
              "    40% {\n",
              "      border-color: transparent;\n",
              "      border-right-color: var(--fill-color);\n",
              "      border-top-color: var(--fill-color);\n",
              "    }\n",
              "    60% {\n",
              "      border-color: transparent;\n",
              "      border-right-color: var(--fill-color);\n",
              "    }\n",
              "    80% {\n",
              "      border-color: transparent;\n",
              "      border-right-color: var(--fill-color);\n",
              "      border-bottom-color: var(--fill-color);\n",
              "    }\n",
              "    90% {\n",
              "      border-color: transparent;\n",
              "      border-bottom-color: var(--fill-color);\n",
              "    }\n",
              "  }\n",
              "</style>\n",
              "\n",
              "  <script>\n",
              "    async function quickchart(key) {\n",
              "      const quickchartButtonEl =\n",
              "        document.querySelector('#' + key + ' button');\n",
              "      quickchartButtonEl.disabled = true;  // To prevent multiple clicks.\n",
              "      quickchartButtonEl.classList.add('colab-df-spinner');\n",
              "      try {\n",
              "        const charts = await google.colab.kernel.invokeFunction(\n",
              "            'suggestCharts', [key], {});\n",
              "      } catch (error) {\n",
              "        console.error('Error during call to suggestCharts:', error);\n",
              "      }\n",
              "      quickchartButtonEl.classList.remove('colab-df-spinner');\n",
              "      quickchartButtonEl.classList.add('colab-df-quickchart-complete');\n",
              "    }\n",
              "    (() => {\n",
              "      let quickchartButtonEl =\n",
              "        document.querySelector('#df-adf58b0b-87f7-4c79-b3fd-d72f736a9c16 button');\n",
              "      quickchartButtonEl.style.display =\n",
              "        google.colab.kernel.accessAllowed ? 'block' : 'none';\n",
              "    })();\n",
              "  </script>\n",
              "</div>\n",
              "    </div>\n",
              "  </div>\n"
            ],
            "text/plain": [
              "   Vandal  Minor  LoggedIn  HTTP  NumWordsAdded  NumWordsRemoved\n",
              "0       0      1         1     1             96                0\n",
              "1       0      1         1     0              3                1\n",
              "2       0      0         1     0              0                4\n",
              "3       0      1         0     0             10               92\n",
              "4       0      1         1     1             94               10"
            ]
          },
          "execution_count": 32,
          "metadata": {},
          "output_type": "execute_result"
        }
      ],
      "source": [
        "import pandas as pd\n",
        "from sklearn.model_selection import train_test_split\n",
        "from sklearn.metrics import accuracy_score\n",
        "\n",
        "df = 'Wikipedia.csv'\n",
        "df = pd.read_csv(df)\n",
        "\n",
        "df.head()"
      ]
    },
    {
      "cell_type": "code",
      "execution_count": null,
      "metadata": {
        "colab": {
          "base_uri": "https://localhost:8080/"
        },
        "id": "m5nl41_dAXe-",
        "outputId": "274a22a2-78d4-4197-bb06-5ccd1760b6ed"
      },
      "outputs": [
        {
          "data": {
            "text/plain": [
              "1815"
            ]
          },
          "execution_count": 33,
          "metadata": {},
          "output_type": "execute_result"
        }
      ],
      "source": [
        "# Counting the number of cases of vandalism\n",
        "num_vandalism_cases = df['Vandal'].sum()\n",
        "num_vandalism_cases"
      ]
    },
    {
      "cell_type": "markdown",
      "metadata": {
        "id": "RIqnlDAiAki6"
      },
      "source": [
        "a)\n",
        "\n",
        "i)\n",
        "\n",
        "How many cases of vandalism were detected in the history of this page?\n",
        "\n",
        "1815"
      ]
    },
    {
      "cell_type": "code",
      "execution_count": null,
      "metadata": {
        "colab": {
          "base_uri": "https://localhost:8080/"
        },
        "id": "Xnhkl2ysAZOb",
        "outputId": "f207e4e6-e90e-4518-caa4-506b1f50628e"
      },
      "outputs": [
        {
          "data": {
            "text/plain": [
              "(4.050051599587204, 3.5128998968008256)"
            ]
          },
          "execution_count": 35,
          "metadata": {},
          "output_type": "execute_result"
        }
      ],
      "source": [
        "# Calculating the average number of words\n",
        "average_words_added = df['NumWordsAdded'].mean()\n",
        "average_words_removed = df['NumWordsRemoved'].mean()\n",
        "\n",
        "average_words_added, average_words_removed\n"
      ]
    },
    {
      "cell_type": "markdown",
      "metadata": {
        "id": "zuL9v0BMAxIZ"
      },
      "source": [
        "ii)\n",
        "\n",
        "What is the average number of words that were added?\n",
        "4.05\n",
        "\n",
        "What is the average number of words that were removed?\n",
        "3.51"
      ]
    },
    {
      "cell_type": "code",
      "execution_count": null,
      "metadata": {
        "colab": {
          "base_uri": "https://localhost:8080/"
        },
        "id": "UjnjmPfWAdAH",
        "outputId": "bc8f7767-2382-4eec-bf67-85960d19393d"
      },
      "outputs": [
        {
          "data": {
            "text/plain": [
              "LoggedIn          -0.429255\n",
              "Minor             -0.213995\n",
              "NumWordsAdded     -0.000729\n",
              "NumWordsRemoved    0.036360\n",
              "HTTP               0.151554\n",
              "Vandal             1.000000\n",
              "Name: Vandal, dtype: float64"
            ]
          },
          "execution_count": 36,
          "metadata": {},
          "output_type": "execute_result"
        }
      ],
      "source": [
        "correlation_with_vandal = df.corr()['Vandal'].sort_values()\n",
        "correlation_with_vandal"
      ]
    },
    {
      "cell_type": "markdown",
      "metadata": {
        "id": "kVN-6sGRA70j"
      },
      "source": [
        "iii)\n",
        "\n",
        "Which variable is the most correlated (positively or negatively) with the variable Vandal?\n",
        "\n",
        "HTTP shows the highest positive correlation with Vandal, with a correlation value of approximately 0.1516.\n",
        "\n",
        "LoggedIn is the most negatively correlated with Vandal, having a correlation value of approximately -0.4293."
      ]
    },
    {
      "cell_type": "code",
      "execution_count": null,
      "metadata": {
        "colab": {
          "base_uri": "https://localhost:8080/"
        },
        "id": "TpV4wohM8eFD",
        "outputId": "6da7e9d7-cb1c-48bc-9ce6-f0e0052ae584"
      },
      "outputs": [
        {
          "name": "stdout",
          "output_type": "stream",
          "text": [
            "Training set size: 2713\n",
            "Testing set size: 1163\n"
          ]
        }
      ],
      "source": [
        "import pandas as pd\n",
        "from sklearn.model_selection import train_test_split\n",
        "\n",
        "train_data, test_data = train_test_split(df, test_size= 0.3, random_state= 42, stratify = df['Vandal'])\n",
        "\n",
        "# Output the sizes of the training and testing sets\n",
        "print(f\"Training set size: {len(train_data)}\")\n",
        "print(f\"Testing set size: {len(test_data)}\")"
      ]
    },
    {
      "cell_type": "code",
      "execution_count": null,
      "metadata": {
        "colab": {
          "base_uri": "https://localhost:8080/"
        },
        "id": "Udbam4j88Bt3",
        "outputId": "27db63a8-6c93-4d1b-eadd-7cec8b10ea65"
      },
      "outputs": [
        {
          "name": "stdout",
          "output_type": "stream",
          "text": [
            "Accuracy of baseline model: 0.53\n"
          ]
        }
      ],
      "source": [
        "# Extracting the 'Vandal' column from the test set\n",
        "vandal_column_test = df['Vandal']\n",
        "\n",
        "# Since the baseline model always predicts 'not vandalism', we count the number of non-vandalism cases\n",
        "# These are correctly predicted by the baseline model\n",
        "correct_predictions = vandal_column_test.value_counts().get(0, 0)\n",
        "\n",
        "# Total number of predictions is the size of the test set\n",
        "total_predictions = len(df)\n",
        "\n",
        "# Calculating accuracy\n",
        "accuracy_baseline = correct_predictions / total_predictions\n",
        "\n",
        "# Print the accuracy\n",
        "print(f\"Accuracy of baseline model: {accuracy_baseline:.2f}\")"
      ]
    },
    {
      "cell_type": "markdown",
      "metadata": {
        "id": "p8jc2J6lBCDf"
      },
      "source": [
        "b)\n",
        "\n",
        "Now, randomly split the data into a training set and a testing set.\n",
        "\n",
        "You should put 70% of the data in the training set. What is the accuracy on the testing set of a simple baseline method that always predicts \"not vandalism\" for every edit?\n",
        "\n",
        "Accuracy: 53%"
      ]
    },
    {
      "cell_type": "code",
      "execution_count": null,
      "metadata": {
        "id": "lIti6aQ48qss"
      },
      "outputs": [],
      "source": [
        "from sklearn.tree import DecisionTreeClassifier, DecisionTreeRegressor\n",
        "from sklearn.metrics import accuracy_score\n",
        "\n",
        "# Preparing the training data\n",
        "X = df.drop(['Vandal'], axis = 1)\n",
        "y = df['Vandal']\n",
        "\n",
        "from sklearn.model_selection import train_test_split\n",
        "X_train_1, X_val, y_train_1, y_val = train_test_split(X, y, test_size=0.3, random_state=42, stratify = df['Vandal'])\n"
      ]
    },
    {
      "cell_type": "code",
      "execution_count": null,
      "metadata": {
        "colab": {
          "base_uri": "https://localhost:8080/",
          "height": 74
        },
        "id": "WhMiAgUOKcX4",
        "outputId": "3e24238b-fb7a-4b36-d5b2-3df60b87b3fc"
      },
      "outputs": [
        {
          "data": {
            "text/html": [
              "<style>#sk-container-id-10 {color: black;background-color: white;}#sk-container-id-10 pre{padding: 0;}#sk-container-id-10 div.sk-toggleable {background-color: white;}#sk-container-id-10 label.sk-toggleable__label {cursor: pointer;display: block;width: 100%;margin-bottom: 0;padding: 0.3em;box-sizing: border-box;text-align: center;}#sk-container-id-10 label.sk-toggleable__label-arrow:before {content: \"▸\";float: left;margin-right: 0.25em;color: #696969;}#sk-container-id-10 label.sk-toggleable__label-arrow:hover:before {color: black;}#sk-container-id-10 div.sk-estimator:hover label.sk-toggleable__label-arrow:before {color: black;}#sk-container-id-10 div.sk-toggleable__content {max-height: 0;max-width: 0;overflow: hidden;text-align: left;background-color: #f0f8ff;}#sk-container-id-10 div.sk-toggleable__content pre {margin: 0.2em;color: black;border-radius: 0.25em;background-color: #f0f8ff;}#sk-container-id-10 input.sk-toggleable__control:checked~div.sk-toggleable__content {max-height: 200px;max-width: 100%;overflow: auto;}#sk-container-id-10 input.sk-toggleable__control:checked~label.sk-toggleable__label-arrow:before {content: \"▾\";}#sk-container-id-10 div.sk-estimator input.sk-toggleable__control:checked~label.sk-toggleable__label {background-color: #d4ebff;}#sk-container-id-10 div.sk-label input.sk-toggleable__control:checked~label.sk-toggleable__label {background-color: #d4ebff;}#sk-container-id-10 input.sk-hidden--visually {border: 0;clip: rect(1px 1px 1px 1px);clip: rect(1px, 1px, 1px, 1px);height: 1px;margin: -1px;overflow: hidden;padding: 0;position: absolute;width: 1px;}#sk-container-id-10 div.sk-estimator {font-family: monospace;background-color: #f0f8ff;border: 1px dotted black;border-radius: 0.25em;box-sizing: border-box;margin-bottom: 0.5em;}#sk-container-id-10 div.sk-estimator:hover {background-color: #d4ebff;}#sk-container-id-10 div.sk-parallel-item::after {content: \"\";width: 100%;border-bottom: 1px solid gray;flex-grow: 1;}#sk-container-id-10 div.sk-label:hover label.sk-toggleable__label {background-color: #d4ebff;}#sk-container-id-10 div.sk-serial::before {content: \"\";position: absolute;border-left: 1px solid gray;box-sizing: border-box;top: 0;bottom: 0;left: 50%;z-index: 0;}#sk-container-id-10 div.sk-serial {display: flex;flex-direction: column;align-items: center;background-color: white;padding-right: 0.2em;padding-left: 0.2em;position: relative;}#sk-container-id-10 div.sk-item {position: relative;z-index: 1;}#sk-container-id-10 div.sk-parallel {display: flex;align-items: stretch;justify-content: center;background-color: white;position: relative;}#sk-container-id-10 div.sk-item::before, #sk-container-id-10 div.sk-parallel-item::before {content: \"\";position: absolute;border-left: 1px solid gray;box-sizing: border-box;top: 0;bottom: 0;left: 50%;z-index: -1;}#sk-container-id-10 div.sk-parallel-item {display: flex;flex-direction: column;z-index: 1;position: relative;background-color: white;}#sk-container-id-10 div.sk-parallel-item:first-child::after {align-self: flex-end;width: 50%;}#sk-container-id-10 div.sk-parallel-item:last-child::after {align-self: flex-start;width: 50%;}#sk-container-id-10 div.sk-parallel-item:only-child::after {width: 0;}#sk-container-id-10 div.sk-dashed-wrapped {border: 1px dashed gray;margin: 0 0.4em 0.5em 0.4em;box-sizing: border-box;padding-bottom: 0.4em;background-color: white;}#sk-container-id-10 div.sk-label label {font-family: monospace;font-weight: bold;display: inline-block;line-height: 1.2em;}#sk-container-id-10 div.sk-label-container {text-align: center;}#sk-container-id-10 div.sk-container {/* jupyter's `normalize.less` sets `[hidden] { display: none; }` but bootstrap.min.css set `[hidden] { display: none !important; }` so we also need the `!important` here to be able to override the default hidden behavior on the sphinx rendered scikit-learn.org. See: https://github.com/scikit-learn/scikit-learn/issues/21755 */display: inline-block !important;position: relative;}#sk-container-id-10 div.sk-text-repr-fallback {display: none;}</style><div id=\"sk-container-id-10\" class=\"sk-top-container\"><div class=\"sk-text-repr-fallback\"><pre>DecisionTreeClassifier(min_samples_leaf=10)</pre><b>In a Jupyter environment, please rerun this cell to show the HTML representation or trust the notebook. <br />On GitHub, the HTML representation is unable to render, please try loading this page with nbviewer.org.</b></div><div class=\"sk-container\" hidden><div class=\"sk-item\"><div class=\"sk-estimator sk-toggleable\"><input class=\"sk-toggleable__control sk-hidden--visually\" id=\"sk-estimator-id-10\" type=\"checkbox\" checked><label for=\"sk-estimator-id-10\" class=\"sk-toggleable__label sk-toggleable__label-arrow\">DecisionTreeClassifier</label><div class=\"sk-toggleable__content\"><pre>DecisionTreeClassifier(min_samples_leaf=10)</pre></div></div></div></div></div>"
            ],
            "text/plain": [
              "DecisionTreeClassifier(min_samples_leaf=10)"
            ]
          },
          "execution_count": 44,
          "metadata": {},
          "output_type": "execute_result"
        }
      ],
      "source": [
        "from sklearn.tree import DecisionTreeClassifier\n",
        "ctree_10 = DecisionTreeClassifier(min_samples_leaf = 10)\n",
        "ctree_10.fit(X_train_1, y_train_1)"
      ]
    },
    {
      "cell_type": "code",
      "execution_count": null,
      "metadata": {
        "colab": {
          "base_uri": "https://localhost:8080/",
          "height": 74
        },
        "id": "blczUaU-Meeo",
        "outputId": "ef3a9936-1c1a-4cda-ca5d-e4fe125a9cbd"
      },
      "outputs": [
        {
          "data": {
            "text/html": [
              "<style>#sk-container-id-9 {color: black;background-color: white;}#sk-container-id-9 pre{padding: 0;}#sk-container-id-9 div.sk-toggleable {background-color: white;}#sk-container-id-9 label.sk-toggleable__label {cursor: pointer;display: block;width: 100%;margin-bottom: 0;padding: 0.3em;box-sizing: border-box;text-align: center;}#sk-container-id-9 label.sk-toggleable__label-arrow:before {content: \"▸\";float: left;margin-right: 0.25em;color: #696969;}#sk-container-id-9 label.sk-toggleable__label-arrow:hover:before {color: black;}#sk-container-id-9 div.sk-estimator:hover label.sk-toggleable__label-arrow:before {color: black;}#sk-container-id-9 div.sk-toggleable__content {max-height: 0;max-width: 0;overflow: hidden;text-align: left;background-color: #f0f8ff;}#sk-container-id-9 div.sk-toggleable__content pre {margin: 0.2em;color: black;border-radius: 0.25em;background-color: #f0f8ff;}#sk-container-id-9 input.sk-toggleable__control:checked~div.sk-toggleable__content {max-height: 200px;max-width: 100%;overflow: auto;}#sk-container-id-9 input.sk-toggleable__control:checked~label.sk-toggleable__label-arrow:before {content: \"▾\";}#sk-container-id-9 div.sk-estimator input.sk-toggleable__control:checked~label.sk-toggleable__label {background-color: #d4ebff;}#sk-container-id-9 div.sk-label input.sk-toggleable__control:checked~label.sk-toggleable__label {background-color: #d4ebff;}#sk-container-id-9 input.sk-hidden--visually {border: 0;clip: rect(1px 1px 1px 1px);clip: rect(1px, 1px, 1px, 1px);height: 1px;margin: -1px;overflow: hidden;padding: 0;position: absolute;width: 1px;}#sk-container-id-9 div.sk-estimator {font-family: monospace;background-color: #f0f8ff;border: 1px dotted black;border-radius: 0.25em;box-sizing: border-box;margin-bottom: 0.5em;}#sk-container-id-9 div.sk-estimator:hover {background-color: #d4ebff;}#sk-container-id-9 div.sk-parallel-item::after {content: \"\";width: 100%;border-bottom: 1px solid gray;flex-grow: 1;}#sk-container-id-9 div.sk-label:hover label.sk-toggleable__label {background-color: #d4ebff;}#sk-container-id-9 div.sk-serial::before {content: \"\";position: absolute;border-left: 1px solid gray;box-sizing: border-box;top: 0;bottom: 0;left: 50%;z-index: 0;}#sk-container-id-9 div.sk-serial {display: flex;flex-direction: column;align-items: center;background-color: white;padding-right: 0.2em;padding-left: 0.2em;position: relative;}#sk-container-id-9 div.sk-item {position: relative;z-index: 1;}#sk-container-id-9 div.sk-parallel {display: flex;align-items: stretch;justify-content: center;background-color: white;position: relative;}#sk-container-id-9 div.sk-item::before, #sk-container-id-9 div.sk-parallel-item::before {content: \"\";position: absolute;border-left: 1px solid gray;box-sizing: border-box;top: 0;bottom: 0;left: 50%;z-index: -1;}#sk-container-id-9 div.sk-parallel-item {display: flex;flex-direction: column;z-index: 1;position: relative;background-color: white;}#sk-container-id-9 div.sk-parallel-item:first-child::after {align-self: flex-end;width: 50%;}#sk-container-id-9 div.sk-parallel-item:last-child::after {align-self: flex-start;width: 50%;}#sk-container-id-9 div.sk-parallel-item:only-child::after {width: 0;}#sk-container-id-9 div.sk-dashed-wrapped {border: 1px dashed gray;margin: 0 0.4em 0.5em 0.4em;box-sizing: border-box;padding-bottom: 0.4em;background-color: white;}#sk-container-id-9 div.sk-label label {font-family: monospace;font-weight: bold;display: inline-block;line-height: 1.2em;}#sk-container-id-9 div.sk-label-container {text-align: center;}#sk-container-id-9 div.sk-container {/* jupyter's `normalize.less` sets `[hidden] { display: none; }` but bootstrap.min.css set `[hidden] { display: none !important; }` so we also need the `!important` here to be able to override the default hidden behavior on the sphinx rendered scikit-learn.org. See: https://github.com/scikit-learn/scikit-learn/issues/21755 */display: inline-block !important;position: relative;}#sk-container-id-9 div.sk-text-repr-fallback {display: none;}</style><div id=\"sk-container-id-9\" class=\"sk-top-container\"><div class=\"sk-text-repr-fallback\"><pre>DecisionTreeClassifier(min_samples_leaf=50)</pre><b>In a Jupyter environment, please rerun this cell to show the HTML representation or trust the notebook. <br />On GitHub, the HTML representation is unable to render, please try loading this page with nbviewer.org.</b></div><div class=\"sk-container\" hidden><div class=\"sk-item\"><div class=\"sk-estimator sk-toggleable\"><input class=\"sk-toggleable__control sk-hidden--visually\" id=\"sk-estimator-id-9\" type=\"checkbox\" checked><label for=\"sk-estimator-id-9\" class=\"sk-toggleable__label sk-toggleable__label-arrow\">DecisionTreeClassifier</label><div class=\"sk-toggleable__content\"><pre>DecisionTreeClassifier(min_samples_leaf=50)</pre></div></div></div></div></div>"
            ],
            "text/plain": [
              "DecisionTreeClassifier(min_samples_leaf=50)"
            ]
          },
          "execution_count": 43,
          "metadata": {},
          "output_type": "execute_result"
        }
      ],
      "source": [
        "from sklearn.tree import DecisionTreeClassifier\n",
        "ctree_50 = DecisionTreeClassifier(min_samples_leaf = 50)\n",
        "ctree_50.fit(X_train_1, y_train_1)"
      ]
    },
    {
      "cell_type": "code",
      "execution_count": null,
      "metadata": {
        "colab": {
          "base_uri": "https://localhost:8080/",
          "height": 74
        },
        "id": "vUVtKjisLNFP",
        "outputId": "3c8f3c93-bdbd-4f16-d4d5-ab761ce79f8f"
      },
      "outputs": [
        {
          "data": {
            "text/html": [
              "<style>#sk-container-id-11 {color: black;background-color: white;}#sk-container-id-11 pre{padding: 0;}#sk-container-id-11 div.sk-toggleable {background-color: white;}#sk-container-id-11 label.sk-toggleable__label {cursor: pointer;display: block;width: 100%;margin-bottom: 0;padding: 0.3em;box-sizing: border-box;text-align: center;}#sk-container-id-11 label.sk-toggleable__label-arrow:before {content: \"▸\";float: left;margin-right: 0.25em;color: #696969;}#sk-container-id-11 label.sk-toggleable__label-arrow:hover:before {color: black;}#sk-container-id-11 div.sk-estimator:hover label.sk-toggleable__label-arrow:before {color: black;}#sk-container-id-11 div.sk-toggleable__content {max-height: 0;max-width: 0;overflow: hidden;text-align: left;background-color: #f0f8ff;}#sk-container-id-11 div.sk-toggleable__content pre {margin: 0.2em;color: black;border-radius: 0.25em;background-color: #f0f8ff;}#sk-container-id-11 input.sk-toggleable__control:checked~div.sk-toggleable__content {max-height: 200px;max-width: 100%;overflow: auto;}#sk-container-id-11 input.sk-toggleable__control:checked~label.sk-toggleable__label-arrow:before {content: \"▾\";}#sk-container-id-11 div.sk-estimator input.sk-toggleable__control:checked~label.sk-toggleable__label {background-color: #d4ebff;}#sk-container-id-11 div.sk-label input.sk-toggleable__control:checked~label.sk-toggleable__label {background-color: #d4ebff;}#sk-container-id-11 input.sk-hidden--visually {border: 0;clip: rect(1px 1px 1px 1px);clip: rect(1px, 1px, 1px, 1px);height: 1px;margin: -1px;overflow: hidden;padding: 0;position: absolute;width: 1px;}#sk-container-id-11 div.sk-estimator {font-family: monospace;background-color: #f0f8ff;border: 1px dotted black;border-radius: 0.25em;box-sizing: border-box;margin-bottom: 0.5em;}#sk-container-id-11 div.sk-estimator:hover {background-color: #d4ebff;}#sk-container-id-11 div.sk-parallel-item::after {content: \"\";width: 100%;border-bottom: 1px solid gray;flex-grow: 1;}#sk-container-id-11 div.sk-label:hover label.sk-toggleable__label {background-color: #d4ebff;}#sk-container-id-11 div.sk-serial::before {content: \"\";position: absolute;border-left: 1px solid gray;box-sizing: border-box;top: 0;bottom: 0;left: 50%;z-index: 0;}#sk-container-id-11 div.sk-serial {display: flex;flex-direction: column;align-items: center;background-color: white;padding-right: 0.2em;padding-left: 0.2em;position: relative;}#sk-container-id-11 div.sk-item {position: relative;z-index: 1;}#sk-container-id-11 div.sk-parallel {display: flex;align-items: stretch;justify-content: center;background-color: white;position: relative;}#sk-container-id-11 div.sk-item::before, #sk-container-id-11 div.sk-parallel-item::before {content: \"\";position: absolute;border-left: 1px solid gray;box-sizing: border-box;top: 0;bottom: 0;left: 50%;z-index: -1;}#sk-container-id-11 div.sk-parallel-item {display: flex;flex-direction: column;z-index: 1;position: relative;background-color: white;}#sk-container-id-11 div.sk-parallel-item:first-child::after {align-self: flex-end;width: 50%;}#sk-container-id-11 div.sk-parallel-item:last-child::after {align-self: flex-start;width: 50%;}#sk-container-id-11 div.sk-parallel-item:only-child::after {width: 0;}#sk-container-id-11 div.sk-dashed-wrapped {border: 1px dashed gray;margin: 0 0.4em 0.5em 0.4em;box-sizing: border-box;padding-bottom: 0.4em;background-color: white;}#sk-container-id-11 div.sk-label label {font-family: monospace;font-weight: bold;display: inline-block;line-height: 1.2em;}#sk-container-id-11 div.sk-label-container {text-align: center;}#sk-container-id-11 div.sk-container {/* jupyter's `normalize.less` sets `[hidden] { display: none; }` but bootstrap.min.css set `[hidden] { display: none !important; }` so we also need the `!important` here to be able to override the default hidden behavior on the sphinx rendered scikit-learn.org. See: https://github.com/scikit-learn/scikit-learn/issues/21755 */display: inline-block !important;position: relative;}#sk-container-id-11 div.sk-text-repr-fallback {display: none;}</style><div id=\"sk-container-id-11\" class=\"sk-top-container\"><div class=\"sk-text-repr-fallback\"><pre>DecisionTreeClassifier(min_samples_leaf=100)</pre><b>In a Jupyter environment, please rerun this cell to show the HTML representation or trust the notebook. <br />On GitHub, the HTML representation is unable to render, please try loading this page with nbviewer.org.</b></div><div class=\"sk-container\" hidden><div class=\"sk-item\"><div class=\"sk-estimator sk-toggleable\"><input class=\"sk-toggleable__control sk-hidden--visually\" id=\"sk-estimator-id-11\" type=\"checkbox\" checked><label for=\"sk-estimator-id-11\" class=\"sk-toggleable__label sk-toggleable__label-arrow\">DecisionTreeClassifier</label><div class=\"sk-toggleable__content\"><pre>DecisionTreeClassifier(min_samples_leaf=100)</pre></div></div></div></div></div>"
            ],
            "text/plain": [
              "DecisionTreeClassifier(min_samples_leaf=100)"
            ]
          },
          "execution_count": 45,
          "metadata": {},
          "output_type": "execute_result"
        }
      ],
      "source": [
        "from sklearn.tree import DecisionTreeClassifier\n",
        "ctree_100 = DecisionTreeClassifier(min_samples_leaf = 100)\n",
        "ctree_100.fit(X_train_1, y_train_1)"
      ]
    },
    {
      "cell_type": "code",
      "execution_count": null,
      "metadata": {
        "colab": {
          "base_uri": "https://localhost:8080/"
        },
        "id": "VHKMj7K8Mpgj",
        "outputId": "333c1078-9bd7-4244-a25a-a27ccfdc584c"
      },
      "outputs": [
        {
          "name": "stdout",
          "output_type": "stream",
          "text": [
            "col_0     0    1\n",
            "Vandal          \n",
            "0       508  110\n",
            "1       235  310\n"
          ]
        }
      ],
      "source": [
        "y_pred_test = ctree_10.predict(X_val)\n",
        "ctree_10.predict_proba(X_val)[:,1]\n",
        "print(pd.crosstab(y_val, y_pred_test))\n",
        "accuracy_ctree_10 = (508 + 310) / (508 + 235 + 110 + 310)"
      ]
    },
    {
      "cell_type": "code",
      "execution_count": null,
      "metadata": {
        "colab": {
          "base_uri": "https://localhost:8080/"
        },
        "id": "FRuDiBIkMpJY",
        "outputId": "bd4c686f-b3d8-4a56-aa0c-e5815ce4bd95"
      },
      "outputs": [
        {
          "name": "stdout",
          "output_type": "stream",
          "text": [
            "col_0     0    1\n",
            "Vandal          \n",
            "0       529   89\n",
            "1       232  313\n"
          ]
        }
      ],
      "source": [
        "y_pred_test = ctree_50.predict(X_val)\n",
        "ctree_50.predict_proba(X_val)[:,1]\n",
        "print(pd.crosstab(y_val, y_pred_test))\n",
        "accuracy_ctree_50 = (529 + 313) / (529 + 232 + 89 + 313)"
      ]
    },
    {
      "cell_type": "code",
      "execution_count": null,
      "metadata": {
        "colab": {
          "base_uri": "https://localhost:8080/"
        },
        "id": "9I4l5BnLMe8Q",
        "outputId": "cc85039a-4197-4b1a-e568-12d2ac797dc1"
      },
      "outputs": [
        {
          "name": "stdout",
          "output_type": "stream",
          "text": [
            "col_0     0    1\n",
            "Vandal          \n",
            "0       542   76\n",
            "1       231  314\n"
          ]
        }
      ],
      "source": [
        "y_pred_test = ctree_100.predict(X_val)\n",
        "ctree_100.predict_proba(X_val)[:,1]\n",
        "print(pd.crosstab(y_val, y_pred_test))\n",
        "accuracy_ctree_100 = (542 + 314) / (542 + 231 + 76 + 314)"
      ]
    },
    {
      "cell_type": "code",
      "execution_count": null,
      "metadata": {
        "colab": {
          "base_uri": "https://localhost:8080/"
        },
        "id": "O0AChnOnMiha",
        "outputId": "1eea6acd-a8de-4374-d5b4-b82368332fe8"
      },
      "outputs": [
        {
          "name": "stdout",
          "output_type": "stream",
          "text": [
            "0.70335339638865\n",
            "0.7239896818572656\n",
            "0.7360275150472915\n"
          ]
        }
      ],
      "source": [
        "print(accuracy_ctree_10)\n",
        "print(accuracy_ctree_50)\n",
        "print(accuracy_ctree_100)"
      ]
    },
    {
      "cell_type": "code",
      "execution_count": null,
      "metadata": {
        "colab": {
          "base_uri": "https://localhost:8080/"
        },
        "id": "42WcT6mAMsib",
        "outputId": "e49a5b99-f783-4c54-c002-8dd80411e479"
      },
      "outputs": [
        {
          "name": "stdout",
          "output_type": "stream",
          "text": [
            "0.7136715391229579\n"
          ]
        }
      ],
      "source": [
        "from sklearn.ensemble import RandomForestClassifier\n",
        "from sklearn.metrics import accuracy_score\n",
        "rf_model = RandomForestClassifier(n_estimators=100, random_state=42)\n",
        "rf_model.fit(X_train_1, y_train_1)\n",
        "y_pred = rf_model.predict(X_val)\n",
        "accuracy_forest_model = accuracy_score(y_val, y_pred)\n",
        "print(accuracy_forest_model)"
      ]
    },
    {
      "cell_type": "markdown",
      "metadata": {
        "id": "2GpgeWQ7BvAY"
      },
      "source": [
        "c)\n",
        "\n",
        "i)\n",
        "\n",
        "These variables included Vandal, LoggedIn, NumWordsAdded, NumWordsRemoved, and Minor. NumWordsAdded and NumWordsRemoved are the most significant variable.\n",
        "\n",
        "\n",
        "ii).\n",
        "\n",
        "Accuracy of CART model: 0.7360275150472915\n"
      ]
    },
    {
      "cell_type": "code",
      "execution_count": null,
      "metadata": {
        "colab": {
          "background_save": true
        },
        "id": "5wq-2piXMyGD",
        "outputId": "7ee666de-c836-47f1-a975-45fcfc127b23"
      },
      "outputs": [
        {
          "data": {
            "text/plain": [
              "[Text(0.3701923076923077, 0.9285714285714286, 'LoggedIn <= 0.5\\ngini = 0.498\\nsamples = 2713\\nvalue = [1443, 1270]\\nclass = Not Vandal'),\n",
              " Text(0.15384615384615385, 0.7857142857142857, 'NumWordsAdded <= 0.5\\ngini = 0.348\\nsamples = 895\\nvalue = [201, 694]\\nclass = Vandal'),\n",
              " Text(0.07692307692307693, 0.6428571428571429, 'NumWordsRemoved <= 0.5\\ngini = 0.5\\nsamples = 290\\nvalue = [144, 146]\\nclass = Vandal'),\n",
              " Text(0.038461538461538464, 0.5, 'gini = 0.496\\nsamples = 181\\nvalue = [99, 82]\\nclass = Not Vandal'),\n",
              " Text(0.11538461538461539, 0.5, 'gini = 0.485\\nsamples = 109\\nvalue = [45, 64]\\nclass = Vandal'),\n",
              " Text(0.23076923076923078, 0.6428571428571429, 'NumWordsRemoved <= 0.5\\ngini = 0.171\\nsamples = 605\\nvalue = [57, 548]\\nclass = Vandal'),\n",
              " Text(0.19230769230769232, 0.5, 'NumWordsAdded <= 5.5\\ngini = 0.126\\nsamples = 401\\nvalue = [27, 374]\\nclass = Vandal'),\n",
              " Text(0.15384615384615385, 0.35714285714285715, 'NumWordsAdded <= 1.5\\ngini = 0.135\\nsamples = 301\\nvalue = [22, 279]\\nclass = Vandal'),\n",
              " Text(0.11538461538461539, 0.21428571428571427, 'gini = 0.126\\nsamples = 148\\nvalue = [10, 138]\\nclass = Vandal'),\n",
              " Text(0.19230769230769232, 0.21428571428571427, 'gini = 0.145\\nsamples = 153\\nvalue = [12, 141]\\nclass = Vandal'),\n",
              " Text(0.23076923076923078, 0.35714285714285715, 'gini = 0.095\\nsamples = 100\\nvalue = [5, 95]\\nclass = Vandal'),\n",
              " Text(0.2692307692307692, 0.5, 'gini = 0.251\\nsamples = 204\\nvalue = [30, 174]\\nclass = Vandal'),\n",
              " Text(0.5865384615384616, 0.7857142857142857, 'NumWordsAdded <= 0.5\\ngini = 0.433\\nsamples = 1818\\nvalue = [1242, 576]\\nclass = Not Vandal'),\n",
              " Text(0.4230769230769231, 0.6428571428571429, 'Minor <= 0.5\\ngini = 0.333\\nsamples = 769\\nvalue = [607, 162]\\nclass = Not Vandal'),\n",
              " Text(0.34615384615384615, 0.5, 'NumWordsRemoved <= 0.5\\ngini = 0.382\\nsamples = 354\\nvalue = [263, 91]\\nclass = Not Vandal'),\n",
              " Text(0.3076923076923077, 0.35714285714285715, 'gini = 0.41\\nsamples = 167\\nvalue = [119, 48]\\nclass = Not Vandal'),\n",
              " Text(0.38461538461538464, 0.35714285714285715, 'gini = 0.354\\nsamples = 187\\nvalue = [144, 43]\\nclass = Not Vandal'),\n",
              " Text(0.5, 0.5, 'NumWordsRemoved <= 2.5\\ngini = 0.284\\nsamples = 415\\nvalue = [344, 71]\\nclass = Not Vandal'),\n",
              " Text(0.46153846153846156, 0.35714285714285715, 'NumWordsRemoved <= 0.5\\ngini = 0.318\\nsamples = 307\\nvalue = [246, 61]\\nclass = Not Vandal'),\n",
              " Text(0.4230769230769231, 0.21428571428571427, 'gini = 0.328\\nsamples = 179\\nvalue = [142, 37]\\nclass = Not Vandal'),\n",
              " Text(0.5, 0.21428571428571427, 'gini = 0.305\\nsamples = 128\\nvalue = [104, 24]\\nclass = Not Vandal'),\n",
              " Text(0.5384615384615384, 0.35714285714285715, 'gini = 0.168\\nsamples = 108\\nvalue = [98, 10]\\nclass = Not Vandal'),\n",
              " Text(0.75, 0.6428571428571429, 'NumWordsRemoved <= 0.5\\ngini = 0.478\\nsamples = 1049\\nvalue = [635, 414]\\nclass = Not Vandal'),\n",
              " Text(0.6538461538461539, 0.5, 'Minor <= 0.5\\ngini = 0.5\\nsamples = 460\\nvalue = [234, 226]\\nclass = Not Vandal'),\n",
              " Text(0.6153846153846154, 0.35714285714285715, 'NumWordsAdded <= 5.5\\ngini = 0.491\\nsamples = 326\\nvalue = [185, 141]\\nclass = Not Vandal'),\n",
              " Text(0.5769230769230769, 0.21428571428571427, 'NumWordsAdded <= 1.5\\ngini = 0.495\\nsamples = 223\\nvalue = [123, 100]\\nclass = Not Vandal'),\n",
              " Text(0.5384615384615384, 0.07142857142857142, 'gini = 0.493\\nsamples = 116\\nvalue = [65, 51]\\nclass = Not Vandal'),\n",
              " Text(0.6153846153846154, 0.07142857142857142, 'gini = 0.496\\nsamples = 107\\nvalue = [58, 49]\\nclass = Not Vandal'),\n",
              " Text(0.6538461538461539, 0.21428571428571427, 'gini = 0.479\\nsamples = 103\\nvalue = [62, 41]\\nclass = Not Vandal'),\n",
              " Text(0.6923076923076923, 0.35714285714285715, 'gini = 0.464\\nsamples = 134\\nvalue = [49, 85]\\nclass = Vandal'),\n",
              " Text(0.8461538461538461, 0.5, 'NumWordsRemoved <= 2.5\\ngini = 0.435\\nsamples = 589\\nvalue = [401, 188]\\nclass = Not Vandal'),\n",
              " Text(0.7692307692307693, 0.35714285714285715, 'Minor <= 0.5\\ngini = 0.412\\nsamples = 379\\nvalue = [269, 110]\\nclass = Not Vandal'),\n",
              " Text(0.7307692307692307, 0.21428571428571427, 'NumWordsAdded <= 1.5\\ngini = 0.38\\nsamples = 220\\nvalue = [164, 56]\\nclass = Not Vandal'),\n",
              " Text(0.6923076923076923, 0.07142857142857142, 'gini = 0.409\\nsamples = 108\\nvalue = [77, 31]\\nclass = Not Vandal'),\n",
              " Text(0.7692307692307693, 0.07142857142857142, 'gini = 0.347\\nsamples = 112\\nvalue = [87, 25]\\nclass = Not Vandal'),\n",
              " Text(0.8076923076923077, 0.21428571428571427, 'gini = 0.449\\nsamples = 159\\nvalue = [105, 54]\\nclass = Not Vandal'),\n",
              " Text(0.9230769230769231, 0.35714285714285715, 'NumWordsAdded <= 4.5\\ngini = 0.467\\nsamples = 210\\nvalue = [132, 78]\\nclass = Not Vandal'),\n",
              " Text(0.8846153846153846, 0.21428571428571427, 'gini = 0.473\\nsamples = 107\\nvalue = [66, 41]\\nclass = Not Vandal'),\n",
              " Text(0.9615384615384616, 0.21428571428571427, 'gini = 0.46\\nsamples = 103\\nvalue = [66, 37]\\nclass = Not Vandal')]"
            ]
          },
          "execution_count": 54,
          "metadata": {},
          "output_type": "execute_result"
        },
        {
          "data": {
            "image/png": "[encoded data removed]",
            "text/plain": [
              "<Figure size 1000x500 with 1 Axes>"
            ]
          },
          "metadata": {},
          "output_type": "display_data"
        }
      ],
      "source": [
        "from sklearn.tree import plot_tree\n",
        "import matplotlib.pyplot as plt\n",
        "plt.figure(figsize=(10,5))\n",
        "plot_tree(ctree_100, feature_names=X.columns, class_names=[\"Not Vandal\",\"Vandal\"], filled=True)"
      ]
    },
    {
      "cell_type": "markdown",
      "metadata": {
        "id": "mFfdKio5Nzct"
      },
      "source": [
        "d)\n",
        "\n",
        "The Accuracy for\n",
        "\n",
        "The Random Forest is: 0.7136715391229579\n",
        "\n",
        "The CART model's: 0.7360275150472915."
      ]
    },
    {
      "cell_type": "markdown",
      "metadata": {
        "id": "3W1UpuiNDLon"
      },
      "source": [
        "e)\n",
        "\n",
        "i)\n",
        "\n",
        "The model achieved an accuracy of approximately 74%. While this is significantly better than random guessing or the simple baseline model, it's not exceptionally high. In practical terms, this means the model will correctly identify vandalism in about three-quarters of cases but may also miss or falsely label some edits.The CART model shows promise and could be a useful tool in detecting vandalism on Wikipedia, its real-world effectiveness would depend on the factors mentioned above.\n",
        "\n",
        "ii)\n",
        "\n",
        "Information about the user’s past editing behavior, such as the number of previous edits, the frequency of their edits, and their history of vandalism (if any), can be very informative.\n",
        "\n",
        "How often an editor's contributions are reverted by others can be a strong indicator of the quality of their edits.\n",
        "\n",
        "Analyzing the actual textual changes in an edit, such as the insertion of inappropriate language, removal of large content sections, or alterations that change the meaning, could be crucial.\n",
        "\n",
        "By incorporating these additional variables, the model could gain a much richer context for each edit, improving its ability to accurately detect vandalism.\n",
        "\n",
        "iii)\n",
        "\n",
        "Different Wikipedia pages might have varying levels of vulnerability to vandalism. The model trained on data from a single page might not generalize well across different topics. Each Wikipedia page might have its unique editing patterns and community norms. Models trained on more diverse data sets, encompassing various topics, editing styles, and vandalism types, tend to generalize better. A model trained on a single page lacks this diversity. In conclusion, while the model might provide some insights or baseline performance when applied to other pages, its effectiveness is likely to be limited."
      ]
    }
  ],
  "metadata": {
    "colab": {
      "provenance": [],
      "authorship_tag": "ABX9TyOJyGSMIn8nrKX1ozEa12ln",
      "include_colab_link": true
    },
    "kernelspec": {
      "display_name": "Python 3",
      "name": "python3"
    },
    "language_info": {
      "name": "python"
    }
  },
  "nbformat": 4,
  "nbformat_minor": 0
}