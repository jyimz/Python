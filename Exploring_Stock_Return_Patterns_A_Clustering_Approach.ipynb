{
  "nbformat": 4,
  "nbformat_minor": 0,
  "metadata": {
    "colab": {
      "provenance": [],
      "authorship_tag": "ABX9TyNTGtq6YU3LW7WLMJrzukbj",
      "include_colab_link": true
    },
    "kernelspec": {
      "name": "python3",
      "display_name": "Python 3"
    },
    "language_info": {
      "name": "python"
    }
  },
  "cells": [
    {
      "cell_type": "markdown",
      "metadata": {
        "id": "view-in-github",
        "colab_type": "text"
      },
      "source": [
        "<a href=\"https://colab.research.google.com/github/jyimz/Python_Data_Projects/blob/main/Exploring_Stock_Return_Patterns_A_Clustering_Approach.ipynb\" target=\"_parent\"><img src=\"https://colab.research.google.com/assets/colab-badge.svg\" alt=\"Open In Colab\"/></a>"
      ]
    },
    {
      "cell_type": "code",
      "execution_count": null,
      "metadata": {
        "id": "Iz4UqNQcBt60",
        "colab": {
          "base_uri": "https://localhost:8080/",
          "height": 325
        },
        "outputId": "38d57cb2-b2f9-494d-c534-4617eb003811"
      },
      "outputs": [
        {
          "output_type": "execute_result",
          "data": {
            "text/plain": [
              "  StockSymbol          Industry                 SubIndustry  Ret2000.01  \\\n",
              "0        AAON  Industrial Goods  General Building Materials    0.080678   \n",
              "1        AAPL    Consumer Goods        Electronic Equipment   -0.010680   \n",
              "2        ABAX        Healthcare       Diagnostic Substances    0.047742   \n",
              "3        ABCB         Financial                    Regional   -0.074040   \n",
              "4        ABFS          Services                    Trucking   -0.031046   \n",
              "\n",
              "   Ret2000.02  Ret2000.03  Ret2000.04  Ret2000.05  Ret2000.06  ret2000.07  \\\n",
              "0    0.066250    0.032941    0.183099    0.130334   -0.017642   -0.020517   \n",
              "1    0.102115    0.145496   -0.084428   -0.327300   -0.359266   -0.025321   \n",
              "2    0.035990    0.039702   -0.162353   -0.147427    0.048589   -0.135385   \n",
              "3   -0.048170    0.018219   -0.024679   -0.006036   -0.025304   -0.094000   \n",
              "4   -0.212677    0.091476    0.189338   -0.153846   -0.106115    0.355301   \n",
              "\n",
              "   ...  Ret2009.03  Ret2009.04  Ret2009.05  Ret2009.06  Ret2009.07  \\\n",
              "0  ...    0.185088    0.100565    0.067762   -0.045062   -0.025832   \n",
              "1  ...    0.192919    0.208858    0.079571    0.043673    0.138606   \n",
              "2  ...    0.111541   -0.119907    0.162126    0.161108    0.304581   \n",
              "3  ...   -0.024845    0.402570   -0.039816   -0.020155    0.004651   \n",
              "4  ...    0.113583    0.227007    0.216357   -0.075114    0.069471   \n",
              "\n",
              "   Ret2009.08  Ret2009.09  Ret2009.10  Ret2009.11  Ret2009.12  \n",
              "0    0.060976   -0.039234   -0.101297    0.041804    0.019885  \n",
              "1    0.018159    0.103339    0.016995    0.053267    0.041980  \n",
              "2    0.001883    0.014026   -0.141783   -0.024740    0.134043  \n",
              "3    0.007812    0.122449   -0.170423    0.105351    0.062315  \n",
              "4    0.112273   -0.052831   -0.127703   -0.047582    0.191981  \n",
              "\n",
              "[5 rows x 123 columns]"
            ],
            "text/html": [
              "\n",
              "  <div id=\"df-3663521f-43cb-49e8-b545-c29aab410f68\" class=\"colab-df-container\">\n",
              "    <div>\n",
              "<style scoped>\n",
              "    .dataframe tbody tr th:only-of-type {\n",
              "        vertical-align: middle;\n",
              "    }\n",
              "\n",
              "    .dataframe tbody tr th {\n",
              "        vertical-align: top;\n",
              "    }\n",
              "\n",
              "    .dataframe thead th {\n",
              "        text-align: right;\n",
              "    }\n",
              "</style>\n",
              "<table border=\"1\" class=\"dataframe\">\n",
              "  <thead>\n",
              "    <tr style=\"text-align: right;\">\n",
              "      <th></th>\n",
              "      <th>StockSymbol</th>\n",
              "      <th>Industry</th>\n",
              "      <th>SubIndustry</th>\n",
              "      <th>Ret2000.01</th>\n",
              "      <th>Ret2000.02</th>\n",
              "      <th>Ret2000.03</th>\n",
              "      <th>Ret2000.04</th>\n",
              "      <th>Ret2000.05</th>\n",
              "      <th>Ret2000.06</th>\n",
              "      <th>ret2000.07</th>\n",
              "      <th>...</th>\n",
              "      <th>Ret2009.03</th>\n",
              "      <th>Ret2009.04</th>\n",
              "      <th>Ret2009.05</th>\n",
              "      <th>Ret2009.06</th>\n",
              "      <th>Ret2009.07</th>\n",
              "      <th>Ret2009.08</th>\n",
              "      <th>Ret2009.09</th>\n",
              "      <th>Ret2009.10</th>\n",
              "      <th>Ret2009.11</th>\n",
              "      <th>Ret2009.12</th>\n",
              "    </tr>\n",
              "  </thead>\n",
              "  <tbody>\n",
              "    <tr>\n",
              "      <th>0</th>\n",
              "      <td>AAON</td>\n",
              "      <td>Industrial Goods</td>\n",
              "      <td>General Building Materials</td>\n",
              "      <td>0.080678</td>\n",
              "      <td>0.066250</td>\n",
              "      <td>0.032941</td>\n",
              "      <td>0.183099</td>\n",
              "      <td>0.130334</td>\n",
              "      <td>-0.017642</td>\n",
              "      <td>-0.020517</td>\n",
              "      <td>...</td>\n",
              "      <td>0.185088</td>\n",
              "      <td>0.100565</td>\n",
              "      <td>0.067762</td>\n",
              "      <td>-0.045062</td>\n",
              "      <td>-0.025832</td>\n",
              "      <td>0.060976</td>\n",
              "      <td>-0.039234</td>\n",
              "      <td>-0.101297</td>\n",
              "      <td>0.041804</td>\n",
              "      <td>0.019885</td>\n",
              "    </tr>\n",
              "    <tr>\n",
              "      <th>1</th>\n",
              "      <td>AAPL</td>\n",
              "      <td>Consumer Goods</td>\n",
              "      <td>Electronic Equipment</td>\n",
              "      <td>-0.010680</td>\n",
              "      <td>0.102115</td>\n",
              "      <td>0.145496</td>\n",
              "      <td>-0.084428</td>\n",
              "      <td>-0.327300</td>\n",
              "      <td>-0.359266</td>\n",
              "      <td>-0.025321</td>\n",
              "      <td>...</td>\n",
              "      <td>0.192919</td>\n",
              "      <td>0.208858</td>\n",
              "      <td>0.079571</td>\n",
              "      <td>0.043673</td>\n",
              "      <td>0.138606</td>\n",
              "      <td>0.018159</td>\n",
              "      <td>0.103339</td>\n",
              "      <td>0.016995</td>\n",
              "      <td>0.053267</td>\n",
              "      <td>0.041980</td>\n",
              "    </tr>\n",
              "    <tr>\n",
              "      <th>2</th>\n",
              "      <td>ABAX</td>\n",
              "      <td>Healthcare</td>\n",
              "      <td>Diagnostic Substances</td>\n",
              "      <td>0.047742</td>\n",
              "      <td>0.035990</td>\n",
              "      <td>0.039702</td>\n",
              "      <td>-0.162353</td>\n",
              "      <td>-0.147427</td>\n",
              "      <td>0.048589</td>\n",
              "      <td>-0.135385</td>\n",
              "      <td>...</td>\n",
              "      <td>0.111541</td>\n",
              "      <td>-0.119907</td>\n",
              "      <td>0.162126</td>\n",
              "      <td>0.161108</td>\n",
              "      <td>0.304581</td>\n",
              "      <td>0.001883</td>\n",
              "      <td>0.014026</td>\n",
              "      <td>-0.141783</td>\n",
              "      <td>-0.024740</td>\n",
              "      <td>0.134043</td>\n",
              "    </tr>\n",
              "    <tr>\n",
              "      <th>3</th>\n",
              "      <td>ABCB</td>\n",
              "      <td>Financial</td>\n",
              "      <td>Regional</td>\n",
              "      <td>-0.074040</td>\n",
              "      <td>-0.048170</td>\n",
              "      <td>0.018219</td>\n",
              "      <td>-0.024679</td>\n",
              "      <td>-0.006036</td>\n",
              "      <td>-0.025304</td>\n",
              "      <td>-0.094000</td>\n",
              "      <td>...</td>\n",
              "      <td>-0.024845</td>\n",
              "      <td>0.402570</td>\n",
              "      <td>-0.039816</td>\n",
              "      <td>-0.020155</td>\n",
              "      <td>0.004651</td>\n",
              "      <td>0.007812</td>\n",
              "      <td>0.122449</td>\n",
              "      <td>-0.170423</td>\n",
              "      <td>0.105351</td>\n",
              "      <td>0.062315</td>\n",
              "    </tr>\n",
              "    <tr>\n",
              "      <th>4</th>\n",
              "      <td>ABFS</td>\n",
              "      <td>Services</td>\n",
              "      <td>Trucking</td>\n",
              "      <td>-0.031046</td>\n",
              "      <td>-0.212677</td>\n",
              "      <td>0.091476</td>\n",
              "      <td>0.189338</td>\n",
              "      <td>-0.153846</td>\n",
              "      <td>-0.106115</td>\n",
              "      <td>0.355301</td>\n",
              "      <td>...</td>\n",
              "      <td>0.113583</td>\n",
              "      <td>0.227007</td>\n",
              "      <td>0.216357</td>\n",
              "      <td>-0.075114</td>\n",
              "      <td>0.069471</td>\n",
              "      <td>0.112273</td>\n",
              "      <td>-0.052831</td>\n",
              "      <td>-0.127703</td>\n",
              "      <td>-0.047582</td>\n",
              "      <td>0.191981</td>\n",
              "    </tr>\n",
              "  </tbody>\n",
              "</table>\n",
              "<p>5 rows × 123 columns</p>\n",
              "</div>\n",
              "    <div class=\"colab-df-buttons\">\n",
              "\n",
              "  <div class=\"colab-df-container\">\n",
              "    <button class=\"colab-df-convert\" onclick=\"convertToInteractive('df-3663521f-43cb-49e8-b545-c29aab410f68')\"\n",
              "            title=\"Convert this dataframe to an interactive table.\"\n",
              "            style=\"display:none;\">\n",
              "\n",
              "  <svg xmlns=\"http://www.w3.org/2000/svg\" height=\"24px\" viewBox=\"0 -960 960 960\">\n",
              "    <path d=\"M120-120v-720h720v720H120Zm60-500h600v-160H180v160Zm220 220h160v-160H400v160Zm0 220h160v-160H400v160ZM180-400h160v-160H180v160Zm440 0h160v-160H620v160ZM180-180h160v-160H180v160Zm440 0h160v-160H620v160Z\"/>\n",
              "  </svg>\n",
              "    </button>\n",
              "\n",
              "  <style>\n",
              "    .colab-df-container {\n",
              "      display:flex;\n",
              "      gap: 12px;\n",
              "    }\n",
              "\n",
              "    .colab-df-convert {\n",
              "      background-color: #E8F0FE;\n",
              "      border: none;\n",
              "      border-radius: 50%;\n",
              "      cursor: pointer;\n",
              "      display: none;\n",
              "      fill: #1967D2;\n",
              "      height: 32px;\n",
              "      padding: 0 0 0 0;\n",
              "      width: 32px;\n",
              "    }\n",
              "\n",
              "    .colab-df-convert:hover {\n",
              "      background-color: #E2EBFA;\n",
              "      box-shadow: 0px 1px 2px rgba(60, 64, 67, 0.3), 0px 1px 3px 1px rgba(60, 64, 67, 0.15);\n",
              "      fill: #174EA6;\n",
              "    }\n",
              "\n",
              "    .colab-df-buttons div {\n",
              "      margin-bottom: 4px;\n",
              "    }\n",
              "\n",
              "    [theme=dark] .colab-df-convert {\n",
              "      background-color: #3B4455;\n",
              "      fill: #D2E3FC;\n",
              "    }\n",
              "\n",
              "    [theme=dark] .colab-df-convert:hover {\n",
              "      background-color: #434B5C;\n",
              "      box-shadow: 0px 1px 3px 1px rgba(0, 0, 0, 0.15);\n",
              "      filter: drop-shadow(0px 1px 2px rgba(0, 0, 0, 0.3));\n",
              "      fill: #FFFFFF;\n",
              "    }\n",
              "  </style>\n",
              "\n",
              "    <script>\n",
              "      const buttonEl =\n",
              "        document.querySelector('#df-3663521f-43cb-49e8-b545-c29aab410f68 button.colab-df-convert');\n",
              "      buttonEl.style.display =\n",
              "        google.colab.kernel.accessAllowed ? 'block' : 'none';\n",
              "\n",
              "      async function convertToInteractive(key) {\n",
              "        const element = document.querySelector('#df-3663521f-43cb-49e8-b545-c29aab410f68');\n",
              "        const dataTable =\n",
              "          await google.colab.kernel.invokeFunction('convertToInteractive',\n",
              "                                                    [key], {});\n",
              "        if (!dataTable) return;\n",
              "\n",
              "        const docLinkHtml = 'Like what you see? Visit the ' +\n",
              "          '<a target=\"_blank\" href=https://colab.research.google.com/notebooks/data_table.ipynb>data table notebook</a>'\n",
              "          + ' to learn more about interactive tables.';\n",
              "        element.innerHTML = '';\n",
              "        dataTable['output_type'] = 'display_data';\n",
              "        await google.colab.output.renderOutput(dataTable, element);\n",
              "        const docLink = document.createElement('div');\n",
              "        docLink.innerHTML = docLinkHtml;\n",
              "        element.appendChild(docLink);\n",
              "      }\n",
              "    </script>\n",
              "  </div>\n",
              "\n",
              "\n",
              "<div id=\"df-431172f7-7191-4a32-9307-371c12c931f5\">\n",
              "  <button class=\"colab-df-quickchart\" onclick=\"quickchart('df-431172f7-7191-4a32-9307-371c12c931f5')\"\n",
              "            title=\"Suggest charts\"\n",
              "            style=\"display:none;\">\n",
              "\n",
              "<svg xmlns=\"http://www.w3.org/2000/svg\" height=\"24px\"viewBox=\"0 0 24 24\"\n",
              "     width=\"24px\">\n",
              "    <g>\n",
              "        <path d=\"M19 3H5c-1.1 0-2 .9-2 2v14c0 1.1.9 2 2 2h14c1.1 0 2-.9 2-2V5c0-1.1-.9-2-2-2zM9 17H7v-7h2v7zm4 0h-2V7h2v10zm4 0h-2v-4h2v4z\"/>\n",
              "    </g>\n",
              "</svg>\n",
              "  </button>\n",
              "\n",
              "<style>\n",
              "  .colab-df-quickchart {\n",
              "      --bg-color: #E8F0FE;\n",
              "      --fill-color: #1967D2;\n",
              "      --hover-bg-color: #E2EBFA;\n",
              "      --hover-fill-color: #174EA6;\n",
              "      --disabled-fill-color: #AAA;\n",
              "      --disabled-bg-color: #DDD;\n",
              "  }\n",
              "\n",
              "  [theme=dark] .colab-df-quickchart {\n",
              "      --bg-color: #3B4455;\n",
              "      --fill-color: #D2E3FC;\n",
              "      --hover-bg-color: #434B5C;\n",
              "      --hover-fill-color: #FFFFFF;\n",
              "      --disabled-bg-color: #3B4455;\n",
              "      --disabled-fill-color: #666;\n",
              "  }\n",
              "\n",
              "  .colab-df-quickchart {\n",
              "    background-color: var(--bg-color);\n",
              "    border: none;\n",
              "    border-radius: 50%;\n",
              "    cursor: pointer;\n",
              "    display: none;\n",
              "    fill: var(--fill-color);\n",
              "    height: 32px;\n",
              "    padding: 0;\n",
              "    width: 32px;\n",
              "  }\n",
              "\n",
              "  .colab-df-quickchart:hover {\n",
              "    background-color: var(--hover-bg-color);\n",
              "    box-shadow: 0 1px 2px rgba(60, 64, 67, 0.3), 0 1px 3px 1px rgba(60, 64, 67, 0.15);\n",
              "    fill: var(--button-hover-fill-color);\n",
              "  }\n",
              "\n",
              "  .colab-df-quickchart-complete:disabled,\n",
              "  .colab-df-quickchart-complete:disabled:hover {\n",
              "    background-color: var(--disabled-bg-color);\n",
              "    fill: var(--disabled-fill-color);\n",
              "    box-shadow: none;\n",
              "  }\n",
              "\n",
              "  .colab-df-spinner {\n",
              "    border: 2px solid var(--fill-color);\n",
              "    border-color: transparent;\n",
              "    border-bottom-color: var(--fill-color);\n",
              "    animation:\n",
              "      spin 1s steps(1) infinite;\n",
              "  }\n",
              "\n",
              "  @keyframes spin {\n",
              "    0% {\n",
              "      border-color: transparent;\n",
              "      border-bottom-color: var(--fill-color);\n",
              "      border-left-color: var(--fill-color);\n",
              "    }\n",
              "    20% {\n",
              "      border-color: transparent;\n",
              "      border-left-color: var(--fill-color);\n",
              "      border-top-color: var(--fill-color);\n",
              "    }\n",
              "    30% {\n",
              "      border-color: transparent;\n",
              "      border-left-color: var(--fill-color);\n",
              "      border-top-color: var(--fill-color);\n",
              "      border-right-color: var(--fill-color);\n",
              "    }\n",
              "    40% {\n",
              "      border-color: transparent;\n",
              "      border-right-color: var(--fill-color);\n",
              "      border-top-color: var(--fill-color);\n",
              "    }\n",
              "    60% {\n",
              "      border-color: transparent;\n",
              "      border-right-color: var(--fill-color);\n",
              "    }\n",
              "    80% {\n",
              "      border-color: transparent;\n",
              "      border-right-color: var(--fill-color);\n",
              "      border-bottom-color: var(--fill-color);\n",
              "    }\n",
              "    90% {\n",
              "      border-color: transparent;\n",
              "      border-bottom-color: var(--fill-color);\n",
              "    }\n",
              "  }\n",
              "</style>\n",
              "\n",
              "  <script>\n",
              "    async function quickchart(key) {\n",
              "      const quickchartButtonEl =\n",
              "        document.querySelector('#' + key + ' button');\n",
              "      quickchartButtonEl.disabled = true;  // To prevent multiple clicks.\n",
              "      quickchartButtonEl.classList.add('colab-df-spinner');\n",
              "      try {\n",
              "        const charts = await google.colab.kernel.invokeFunction(\n",
              "            'suggestCharts', [key], {});\n",
              "      } catch (error) {\n",
              "        console.error('Error during call to suggestCharts:', error);\n",
              "      }\n",
              "      quickchartButtonEl.classList.remove('colab-df-spinner');\n",
              "      quickchartButtonEl.classList.add('colab-df-quickchart-complete');\n",
              "    }\n",
              "    (() => {\n",
              "      let quickchartButtonEl =\n",
              "        document.querySelector('#df-431172f7-7191-4a32-9307-371c12c931f5 button');\n",
              "      quickchartButtonEl.style.display =\n",
              "        google.colab.kernel.accessAllowed ? 'block' : 'none';\n",
              "    })();\n",
              "  </script>\n",
              "</div>\n",
              "\n",
              "    </div>\n",
              "  </div>\n"
            ]
          },
          "metadata": {},
          "execution_count": 3
        }
      ],
      "source": [
        "import pandas as pd\n",
        "import numpy as np\n",
        "df = pd.read_csv(\"NasdaqReturns.csv\")\n",
        "df.head()"
      ]
    },
    {
      "cell_type": "markdown",
      "source": [
        "a - i"
      ],
      "metadata": {
        "id": "OHmYF04HH5WQ"
      }
    },
    {
      "cell_type": "code",
      "source": [
        "total_companies = df['StockSymbol'].nunique()\n",
        "print(f\"Total number of unique companies in the dataset: {total_companies}\")\n",
        "\n",
        "industry_counts = df['Industry'].value_counts()\n",
        "print(\"Number of companies in each industry:\")\n",
        "print(industry_counts)\n"
      ],
      "metadata": {
        "colab": {
          "base_uri": "https://localhost:8080/"
        },
        "id": "JrEzV09jyK2c",
        "outputId": "0686e8ed-e423-4040-b134-3210fe09affb"
      },
      "execution_count": null,
      "outputs": [
        {
          "output_type": "stream",
          "name": "stdout",
          "text": [
            "Total number of unique companies in the dataset: 1158\n",
            "Number of companies in each industry:\n",
            "Financial            338\n",
            "Technology           296\n",
            "Services             202\n",
            "Healthcare           111\n",
            "Consumer Goods        80\n",
            "Industrial Goods      65\n",
            "Basic Materials       50\n",
            "Utilities             12\n",
            "Conglomerates          2\n",
            "Consumer Cyclical      2\n",
            "Name: Industry, dtype: int64\n"
          ]
        }
      ]
    },
    {
      "cell_type": "markdown",
      "source": [
        "Total number of unique companies in the dataset: 1158\n",
        "\n",
        "\n",
        "Number of companies in each industry:\n",
        "Financial            338\n",
        "Technology           296\n",
        "Services             202\n",
        "Healthcare           111\n",
        "Consumer Goods        80\n",
        "Industrial Goods      65\n",
        "Basic Materials       50\n",
        "Utilities             12\n",
        "Conglomerates          2\n",
        "Consumer Cyclical      2"
      ],
      "metadata": {
        "id": "lHmId_Lvd1DX"
      }
    },
    {
      "cell_type": "markdown",
      "source": [
        "a - ii"
      ],
      "metadata": {
        "id": "fcskgrjmH-aT"
      }
    },
    {
      "cell_type": "code",
      "source": [
        "# Filter stocks that increased by 10% or more in December 2000\n",
        "increased_by_10_or_more = df[df['Ret2000.12'] >= 0.10]\n",
        "\n",
        "# Filter stocks that decreased by 10% or more in December 2000\n",
        "decreased_by_10_or_more = df[df['Ret2000.12'] <= -0.10]\n",
        "\n",
        "# Count the number of stocks meeting each condition\n",
        "num_increased = len(increased_by_10_or_more)\n",
        "num_decreased = len(decreased_by_10_or_more)\n",
        "\n",
        "print(num_increased)\n",
        "print(num_decreased)"
      ],
      "metadata": {
        "colab": {
          "base_uri": "https://localhost:8080/"
        },
        "id": "l_a2fppeyxWi",
        "outputId": "4b02fc90-a95f-499d-9068-1bed220c5bef"
      },
      "execution_count": null,
      "outputs": [
        {
          "output_type": "stream",
          "name": "stdout",
          "text": [
            "309\n",
            "261\n"
          ]
        }
      ]
    },
    {
      "cell_type": "markdown",
      "source": [
        "Number of stocks that increased by 10% or more in December 2000: 309\n",
        "\n",
        "\n",
        "Number of stocks that decreased by 10% or more in December 2000: 261"
      ],
      "metadata": {
        "id": "ggidHjWbdcdJ"
      }
    },
    {
      "cell_type": "code",
      "source": [
        "# Read the dataset into a pandas DataFrame\n",
        "df = pd.read_csv(\"NasdaqReturns.csv\")\n",
        "\n",
        "# Filter the dataset for December 2000 values\n",
        "dec_2000 = df[['StockSymbol', 'Ret2000.12']]\n",
        "\n",
        "# Count the number of stocks with value increase by 10% or more\n",
        "increase_10pct = dec_2000[dec_2000['Ret2000.12'] >= 0.1]['StockSymbol'].nunique()\n",
        "print(f\"Number of stocks with a value increase of 10% or more: {increase_10pct}\")\n",
        "\n",
        "# Count the number of stocks with value decrease by 10% or more\n",
        "decrease_10pct = dec_2000[dec_2000['Ret2000.12'] <= -0.1]['StockSymbol'].nunique()\n",
        "print(f\"Number of stocks with a value decrease of 10% or more: {decrease_10pct}\")"
      ],
      "metadata": {
        "colab": {
          "base_uri": "https://localhost:8080/"
        },
        "id": "DeFR6Ch6E9-k",
        "outputId": "9252c666-51f9-45ed-e20e-cfbfddf9b539"
      },
      "execution_count": null,
      "outputs": [
        {
          "output_type": "stream",
          "name": "stdout",
          "text": [
            "Number of stocks with a value increase of 10% or more: 309\n",
            "Number of stocks with a value decrease of 10% or more: 261\n"
          ]
        }
      ]
    },
    {
      "cell_type": "markdown",
      "source": [
        "a - iii"
      ],
      "metadata": {
        "id": "jkUhOTjRHyrQ"
      }
    },
    {
      "cell_type": "code",
      "source": [
        "# Filter the dataset for October 2008 values\n",
        "oct_2008 = df[['Industry', 'Ret2008.10']]\n",
        "\n",
        "# Calculate the average return for each industry in October 2008\n",
        "average_returns = oct_2008.groupby('Industry')['Ret2008.10'].mean().sort_values()\n",
        "\n",
        "# Get the industries with the worst average return\n",
        "worst_industries = average_returns.head(5)   # Change 5 to any desired number of worst industries\n",
        "\n",
        "print(\"Industries with the worst average return in October 2008:\")\n",
        "for industry, avg_return in worst_industries.items():\n",
        "    print(f\"- {industry}: {avg_return}\")"
      ],
      "metadata": {
        "colab": {
          "base_uri": "https://localhost:8080/"
        },
        "id": "5yTG9BzuFM_8",
        "outputId": "adc86446-4b59-488f-aaaa-242e71cf1953"
      },
      "execution_count": null,
      "outputs": [
        {
          "output_type": "stream",
          "name": "stdout",
          "text": [
            "Industries with the worst average return in October 2008:\n",
            "- Conglomerates: -0.265747905\n",
            "- Basic Materials: -0.25467449732\n",
            "- Industrial Goods: -0.23336637736923077\n",
            "- Technology: -0.1962992546148649\n",
            "- Services: -0.17383349725742572\n"
          ]
        }
      ]
    },
    {
      "cell_type": "markdown",
      "source": [
        "b - i"
      ],
      "metadata": {
        "id": "-GX3ZBnQHxdX"
      }
    },
    {
      "cell_type": "markdown",
      "source": [
        "In this problem, we're working with a dataset containing monthly stock returns from January 2000 to December 2009, and we're clustering the data solely based on these returns, excluding other variables like StockSymbol, Industry, and SubIndustry. Not normalizing the data before clustering is a valid approach for several reasons:\n",
        "\n",
        "Consistency of units: The monthly returns are inherently on a uniform scale, representing proportional changes in stock values, ensuring consistent units across all variables.\n",
        "\n",
        "Magnitude preservation: Normalizing could potentially distort the actual magnitude of returns, which may carry important information for identifying patterns or trends.\n",
        "\n",
        "Relative comparisons: Clustering often relies on relative positions of data points rather than their absolute values. Therefore, as long as relative differences in returns are maintained, normalizing may not significantly impact resulting clusters.\n",
        "\n",
        "Interpretability: Normalization can complicate the interpretation of clusters, as it erases the original magnitudes, making it harder to connect clusters with specific stock return patterns or trends.\n",
        "\n",
        "Nevertheless, it's crucial to recognize that the suitability of normalization depends on the specific problem and dataset. In certain cases, normalizing data might be necessary or lead to better clustering outcomes. Experimentation with different approaches and assessing their impact on clustering results is a recommended practice.\n"
      ],
      "metadata": {
        "id": "1UCepPgKGFoY"
      }
    },
    {
      "cell_type": "markdown",
      "source": [
        "b - ii"
      ],
      "metadata": {
        "id": "Ha_0KZQCHtPM"
      }
    },
    {
      "cell_type": "code",
      "source": [
        "import pandas as pd\n",
        "import numpy as np\n",
        "import matplotlib.pyplot as plt\n",
        "from scipy.cluster.hierarchy import linkage, dendrogram\n",
        "\n",
        "# Select only the return columns\n",
        "returns_data = df.loc[:, 'Ret2000.01':'Ret2009.12']\n",
        "\n",
        "# Perform hierarchical clustering with Euclidean distance and Ward's linkage\n",
        "linkage_matrix = linkage(returns_data, method='ward', metric='euclidean')\n",
        "\n",
        "# Plot the dendrogram\n",
        "plt.figure(figsize=(10, 5))\n",
        "dendrogram(linkage_matrix, labels=df['StockSymbol'].values, leaf_rotation=90, leaf_font_size=10)\n",
        "plt.title('Hierarchical Clustering Dendrogram')\n",
        "plt.xlabel('Stocks')\n",
        "plt.ylabel('Distance')\n",
        "plt.show()\n"
      ],
      "metadata": {
        "colab": {
          "base_uri": "https://localhost:8080/",
          "height": 526
        },
        "id": "6k4lF6q50CwA",
        "outputId": "4301eb19-7197-4b4d-ecd4-e172d7b28c32"
      },
      "execution_count": null,
      "outputs": [
        {
          "output_type": "display_data",
          "data": {
            "text/plain": [
              "<Figure size 1000x500 with 1 Axes>"
            ],
            "image/png": "[encoded data removed]"
          },
          "metadata": {}
        }
      ]
    },
    {
      "cell_type": "markdown",
      "source": [
        "b - iii"
      ],
      "metadata": {
        "id": "gxczRAFKHq1r"
      }
    },
    {
      "cell_type": "code",
      "source": [
        "from scipy.cluster.hierarchy import fcluster\n",
        "\n",
        "# Assign clusters to data points using the selected number of clusters\n",
        "cluster_assignments = fcluster(linkage_matrix, t=num_clusters, criterion='maxclust')\n",
        "\n",
        "# Add the cluster assignments to the original DataFrame\n",
        "df['Cluster'] = cluster_assignments\n",
        "\n",
        "# Create a dictionary to store cluster information\n",
        "cluster_info = {}\n",
        "\n",
        "# Loop through each cluster\n",
        "for cluster_num in range(1, num_clusters + 1):\n",
        "    # Select companies in the current cluster\n",
        "    cluster_data = df[df['Cluster'] == cluster_num]\n",
        "\n",
        "    # Get the number of observations in the cluster\n",
        "    num_observations = len(cluster_data)\n",
        "\n",
        "    # Get unique industry and subindustry values in the cluster\n",
        "    industries = cluster_data['Industry'].unique()\n",
        "    subindustries = cluster_data['SubIndustry'].unique()\n",
        "\n",
        "    # Store cluster information in the dictionary\n",
        "    cluster_info[cluster_num] = {\n",
        "        'NumObservations': num_observations,\n",
        "        'Industries': industries,\n",
        "        'SubIndustries': subindustries\n",
        "    }\n",
        "\n",
        "# Print cluster information\n",
        "for cluster_num, info in cluster_info.items():\n",
        "    print(f\"Cluster {cluster_num}:\")\n",
        "    print(f\"Number of Observations: {info['NumObservations']}\")\n",
        "    print(f\"Industries: {', '.join(info['Industries'])}\")\n",
        "    print(f\"SubIndustries: {', '.join(info['SubIndustries'])}\")\n",
        "    print()\n"
      ],
      "metadata": {
        "colab": {
          "base_uri": "https://localhost:8080/"
        },
        "id": "2cyIIEE-0qiU",
        "outputId": "90373f69-dbf9-4004-874d-f7aed0ff4756"
      },
      "execution_count": null,
      "outputs": [
        {
          "output_type": "stream",
          "name": "stdout",
          "text": [
            "Cluster 1:\n",
            "Number of Observations: 588\n",
            "Industries: Industrial Goods, Financial, Services, Consumer Goods, Basic Materials, Technology, Healthcare, Utilities, Conglomerates, Consumer Cyclical\n",
            "SubIndustries: General Building Materials, Regional, Trucking, Recreational Vehicles, Chemicals, Property & Casualty Insurance, Information Technology Services, Business Software & Services, Home Health Care, Medical Appliances & Equipment, Processed & Packaged Goods, Air Services, Other, Farm Products, Scientific & Technical Instruments, Computer Peripherals, Biotechnology, Hospitals, Home Furnishings & Fixtures, Application Software, Specialty Chemicals, Education & Training Services, Grocery Stores, Industrial Metals & Minerals, Water Utilities, Savings & Loans, Security & Protection Services, Mortgage Investment, Medical Instruments & Supplies, Aerospace/Defense Products & Services, Recreational Goods, Other, Home Furnishing Stores, Staffing & Outsourcing Services, Restaurants, Diagnostic Substances, Textile, Foreign Regional Banks, Meat Products, Business Services, Food, Gaming Activities, Apparel Stores, Business Equipment, Air Delivery & Freight Services, Personal Products, Entertainment, Broadcasting &amp; Cable TV, Beverages, Discount, Variety Stores, Auto Dealerships, Management Services, Publishing, Insurance Brokers, Specialty Retail, Other, Asset Management, Closed-End Fund, Diversified Investments, Personal Computers, Gas Utilities, Auto Parts, Rubber & Plastics, Waste Management, Telecom Services, Rental & Leasing Services, Foreign Money Center Banks, Industrial Equipment Wholesale, Industrial Electrical Equipment, Diversified Machinery, Money Center Banks, Broadcasting, Property Management, Railroads, Personal Services, REIT, Food Wholesale, Housewares & Accessories, Sporting Goods Stores, Medical Equipment Wholesale, Internet Information Providers, Heavy Construction, Sporting Activities, Surety & Title Insurance, Toys & Games, Communication Equipment, Lumber, Wood Production, Sporting Goods, Printed Circuit Boards, Life Insurance, Investment Brokerage, Electronic Equipment, Advertising Agencies, Small Tools & Accessories, Gold, Oil & Gas Equipment & Services, Diversified Utilities, Packaging & Containers, Conglomerates, Diversified Electronics, Drugs, Manufactured Housing, Research Services, Auto &amp; Truck Manufacturers, Auto Parts Stores, Silver, Trucks & Other Vehicles, Resorts & Casinos, Medical Laboratories & Research, Specialty Eateries, Independent Oil & Gas, Drug Related Products, Movie Production, Theaters, Electronics Wholesale, Confectioners, Regional Airlines, General Contractors, Drug Manufacturers, Semiconductor Equipment & Materials, Oil & Gas Pipelines, Computers Wholesale, Paper & Paper Products, Semiconductor, Specialized Health Services, Shipping, Wireless Communications, Apparel/Accessories, Computer Based Systems\n",
            "\n",
            "Cluster 2:\n",
            "Number of Observations: 350\n",
            "Industries: Healthcare, Basic Materials, Technology, Consumer Goods, Services, Financial, Industrial Goods, Utilities\n",
            "SubIndustries: Diagnostic Substances, Medical Appliances & Equipment, Oil & Gas Equipment & Services, Application Software, Health Care Plans, Technical & System Software, Rubber & Plastics, Scientific & Technical Instruments, Air Delivery & Freight Services, Marketing Services, Telecom Services, Healthcare Information Services, Business Software & Services, Home Health Care, Accident & Health Insurance, Biotechnology, Farm Products, Communication Equipment, Independent Oil & Gas, Restaurants, Semiconductor, Farm & Construction Machinery, Resorts & Casinos, Business Services, Staffing & Outsourcing Services, Specialized Health Services, Multimedia & Graphics Software, Specialty Retail, Other, Networking & Communication Devices, Aerospace/Defense Products & Services, Apparel Stores, Diversified Electronics, Credit Services, Food, Regional, Beverages, Aluminum, Savings & Loans, Industrial Equipment Wholesale, Medical Equipment Wholesale, Industrial Metals & Minerals, Medical Instruments & Supplies, Research Services, Industrial Equipment & Components, Auto Dealerships, Property Management, Information Technology Services, Trucking, Textile, Electronic Equipment, Drug Manufacturers, Data Storage Devices, Management Services, Hospitals, Waste Management, Diversified Utilities, Diversified Machinery, Property & Casualty Insurance, Pollution & Treatment Controls, Oil & Gas Drilling & Exploration, Industrial Electrical Equipment, Catalog & Mail Order Houses, Metal Fabrication, Long Distance Carriers, Computers Wholesale, Music & Video Stores, Machine Tools & Accessories, Drugs, Medical Laboratories & Research, Textile Industrial, Internet Service Providers, Medical Practitioners, Specialty Chemicals, Personal Products, Processed & Packaged Goods, Internet Software & Services, Heavy Construction, Electronics Wholesale, Gaming Activities, Drug Delivery, Drug Related Products, Computer Peripherals, Packaging & Containers, Steel & Iron, Printing &amp; Publishing, Broadcasting, Wireless Communications, Manufactured Housing, Life Insurance, Closed-End Fund, Movie Production, Theaters, Personal Services, Investment Brokerage, Recreational Goods, Other, Lodging, Trucks & Other Vehicles, Real Estate Development, Auto Parts, General Building Materials, Diversified Investments, Technical Services, Rental & Leasing Services, Business Equipment, Grocery Stores, Advertising Agencies, Photographic Equipment & Supplies\n",
            "\n",
            "Cluster 3:\n",
            "Number of Observations: 1\n",
            "Industries: Industrial Goods\n",
            "SubIndustries: Waste Management\n",
            "\n",
            "Cluster 4:\n",
            "Number of Observations: 88\n",
            "Industries: Technology, Healthcare, Industrial Goods, Consumer Goods, Services\n",
            "SubIndustries: Application Software, Technical & System Software, Drug Delivery, Biotechnology, Semiconductor, Industrial Electrical Equipment, Diversified Electronics, Wireless Communications, Communication Equipment, Internet Software & Services, Medical Appliances & Equipment, Semiconductor Equipment & Materials, Data Storage Devices, Medical Instruments & Supplies, Healthcare Information Services, Security Software & Services, Scientific & Technical Instruments, Networking & Communication Devices, Printed Circuit Boards, Auto Parts, Diagnostic Substances, Business Software & Services, Computer Peripherals, Drug Manufacturers, Research Services, Drugs, Industrial Equipment Wholesale, Electronics Wholesale, Medical Laboratories & Research, Catalog & Mail Order Houses, Information Technology Services, Diversified Communication Services, Multimedia & Graphics Software, Semiconductor- Memory Chips, Processing Systems & Products, Internet Information Providers\n",
            "\n",
            "Cluster 5:\n",
            "Number of Observations: 131\n",
            "Industries: Consumer Goods, Technology, Financial, Services, Healthcare, Industrial Goods, Basic Materials\n",
            "SubIndustries: Electronic Equipment, Semiconductor, Communication Equipment, Computer Based Systems, Diversified Electronics, Semiconductor Equipment & Materials, Investment Brokerage, Catalog & Mail Order Houses, Computer Peripherals, Application Software, Medical Laboratories & Research, Business Software & Services, Pollution & Treatment Controls, Scientific & Technical Instruments, CATV Systems, Data Storage Devices, Internet Software & Services, Specialty Retail, Other, Networking & Communication Devices, Management Services, Medical Appliances & Equipment, Wireless Communications, Technical & System Software, Semiconductor- Memory Chips, Diversified Computer Systems, Security Software & Services, Drug Manufacturers, Computers Wholesale, Business Services, Biotechnology, Printed Circuit Boards, Diversified Machinery, Research Services, Containers &amp; Packaging, Steel & Iron, Diversified Investments, Money Center Banks, Electronics Wholesale, Waste Management, Internet Information Providers\n",
            "\n"
          ]
        }
      ]
    },
    {
      "cell_type": "markdown",
      "source": [
        "b - iv"
      ],
      "metadata": {
        "id": "6VZzNsXsHmp5"
      }
    },
    {
      "cell_type": "code",
      "source": [
        "# Filter the DataFrame for February 2000 (Ret2000.02)\n",
        "feb_2000_data = df[['Cluster', 'Ret2000.02']]\n",
        "\n",
        "# Calculate the average return for each cluster in February 2000\n",
        "feb_2000_avg_returns = feb_2000_data.groupby('Cluster')['Ret2000.02'].mean().transpose()\n",
        "\n",
        "# Filter the DataFrame for March 2000 (Ret2000.03)\n",
        "mar_2000_data = df[['Cluster', 'Ret2000.03']]\n",
        "\n",
        "# Calculate the average return for each cluster in March 2000\n",
        "mar_2000_avg_returns = mar_2000_data.groupby('Cluster')['Ret2000.03'].mean().transpose()\n",
        "\n",
        "# Print the average returns for each cluster for both months\n",
        "print(\"Average Returns for February 2000:\")\n",
        "print(feb_2000_avg_returns)\n",
        "\n",
        "print(\"\\nAverage Returns for March 2000:\")\n",
        "print(mar_2000_avg_returns)\n",
        "\n"
      ],
      "metadata": {
        "colab": {
          "base_uri": "https://localhost:8080/"
        },
        "id": "yfgBszoO087K",
        "outputId": "5f5e3951-67d2-42b6-a758-5f2231d073d6"
      },
      "execution_count": null,
      "outputs": [
        {
          "output_type": "stream",
          "name": "stdout",
          "text": [
            "Average Returns for February 2000:\n",
            "Cluster\n",
            "1   -0.023660\n",
            "2    0.113708\n",
            "3    0.213592\n",
            "4    1.038105\n",
            "5    0.197151\n",
            "Name: Ret2000.02, dtype: float64\n",
            "\n",
            "Average Returns for March 2000:\n",
            "Cluster\n",
            "1    0.011428\n",
            "2   -0.003415\n",
            "3    0.333333\n",
            "4   -0.259350\n",
            "5   -0.052053\n",
            "Name: Ret2000.03, dtype: float64\n"
          ]
        }
      ]
    },
    {
      "cell_type": "code",
      "source": [
        "feb_2000_data.groupby('Cluster')['Ret2000.02'].size()"
      ],
      "metadata": {
        "colab": {
          "base_uri": "https://localhost:8080/"
        },
        "id": "qiUZM2Bg9yrl",
        "outputId": "805490ca-d061-4a42-851b-250d388bd032"
      },
      "execution_count": null,
      "outputs": [
        {
          "output_type": "execute_result",
          "data": {
            "text/plain": [
              "Cluster\n",
              "1    588\n",
              "2    350\n",
              "3      1\n",
              "4     88\n",
              "5    131\n",
              "Name: Ret2000.02, dtype: int64"
            ]
          },
          "metadata": {},
          "execution_count": 42
        }
      ]
    },
    {
      "cell_type": "code",
      "source": [
        "mar_2000_data.groupby('Cluster')['Ret2000.03'].size()"
      ],
      "metadata": {
        "colab": {
          "base_uri": "https://localhost:8080/"
        },
        "id": "C5TAqvzM9j4r",
        "outputId": "9b4ea24f-8fc7-4e91-cfb5-c70db923e18a"
      },
      "execution_count": null,
      "outputs": [
        {
          "output_type": "execute_result",
          "data": {
            "text/plain": [
              "Cluster\n",
              "1    588\n",
              "2    350\n",
              "3      1\n",
              "4     88\n",
              "5    131\n",
              "Name: Ret2000.03, dtype: int64"
            ]
          },
          "metadata": {},
          "execution_count": 40
        }
      ]
    },
    {
      "cell_type": "markdown",
      "source": [
        "b - v\n"
      ],
      "metadata": {
        "id": "xmJJhkMi1Sm6"
      }
    },
    {
      "cell_type": "code",
      "source": [
        "import matplotlib.pyplot as plt\n",
        "\n",
        "# Scatter plot for Hierarchical clustering\n",
        "plt.scatter(\n",
        "    returns_data['Ret2005.01'], returns_data['Ret2005.02'],\n",
        "    c=hierarchical_cluster_assignments, cmap='rainbow', label='Hierarchical Clustering'\n",
        ")\n",
        "\n",
        "# Add a legend\n",
        "plt.legend()\n",
        "\n",
        "# Add labels and title\n",
        "plt.xlabel('Ret2005.01')\n",
        "plt.ylabel('Ret2005.02')\n",
        "plt.title('Comparison of Clustering Results')\n",
        "\n",
        "# Show the plot\n",
        "plt.show()\n"
      ],
      "metadata": {
        "colab": {
          "base_uri": "https://localhost:8080/",
          "height": 472
        },
        "id": "MkB18W50fpdG",
        "outputId": "67c3b986-9770-426a-e97d-12524ee95ee5"
      },
      "execution_count": null,
      "outputs": [
        {
          "output_type": "display_data",
          "data": {
            "text/plain": [
              "<Figure size 640x480 with 1 Axes>"
            ],
            "image/png": "[encoded data removed]"
          },
          "metadata": {}
        }
      ]
    },
    {
      "cell_type": "code",
      "source": [
        "import pandas as pd\n",
        "import numpy as np\n",
        "from sklearn.cluster import KMeans\n",
        "from scipy.cluster.hierarchy import fcluster\n",
        "\n",
        "# Select only the return columns\n",
        "returns_data = df.loc[:, 'Ret2000.01':'Ret2009.12']\n",
        "\n",
        "# Number of clusters (use the same number as in Hierarchical clustering)\n",
        "num_clusters = 5\n",
        "\n",
        "# Create a K-means clustering model\n",
        "kmeans = KMeans(n_clusters=num_clusters, random_state=0)\n",
        "\n",
        "# Fit the K-means model to the data and obtain cluster assignments\n",
        "kmeans_cluster_assignments = kmeans.fit_predict(returns_data)\n",
        "\n",
        "# Add the K-means cluster assignments to the original DataFrame\n",
        "df['KMeansCluster'] = kmeans_cluster_assignments\n",
        "\n",
        "# Compare K-means cluster assignments to Hierarchical cluster assignments\n",
        "hierarchical_cluster_assignments = df['Cluster'].values\n",
        "\n",
        "# Check if K-means and Hierarchical cluster assignments match\n",
        "matches = (kmeans_cluster_assignments == hierarchical_cluster_assignments)\n",
        "\n",
        "# Print the number of matches and total observations\n",
        "num_matches = np.sum(matches)\n",
        "total_observations = len(df)\n",
        "\n",
        "print(f\"Number of matching cluster assignments: {num_matches}\")\n",
        "print(f\"Total observations: {total_observations}\")\n",
        "print(f\"Percentage of matching assignments: {num_matches / total_observations * 100:.2f}%\")\n"
      ],
      "metadata": {
        "id": "bMhNbxvXG-rl",
        "colab": {
          "base_uri": "https://localhost:8080/"
        },
        "outputId": "ccc05942-9134-4727-b895-2bddb5030255"
      },
      "execution_count": null,
      "outputs": [
        {
          "output_type": "stream",
          "name": "stderr",
          "text": [
            "/usr/local/lib/python3.10/dist-packages/sklearn/cluster/_kmeans.py:870: FutureWarning: The default value of `n_init` will change from 10 to 'auto' in 1.4. Set the value of `n_init` explicitly to suppress the warning\n",
            "  warnings.warn(\n"
          ]
        },
        {
          "output_type": "stream",
          "name": "stdout",
          "text": [
            "Number of matching cluster assignments: 129\n",
            "Total observations: 1158\n",
            "Percentage of matching assignments: 11.14%\n"
          ]
        }
      ]
    },
    {
      "cell_type": "markdown",
      "source": [
        "\n",
        "To determine whether the clusters obtained from K-means clustering are similar or different from the clusters obtained from Hierarchical clustering, you can consider the percentage of matching cluster assignments and visually inspect the clustering results.\n",
        "\n",
        "In the code provided earlier, we calculated the percentage of matching assignments and printed it. Here's what the percentage indicates:\n",
        "\n",
        "If the percentage of matching assignments is high (close to 100%), it suggests that the clusters obtained from K-means are similar to those obtained from Hierarchical clustering.\n",
        "\n",
        "If the percentage is lower, it suggests that there are differences between the two clustering methods.\n",
        "\n",
        "However, it's essential to keep in mind that different clustering algorithms may produce slightly different results due to their inherent characteristics and sensitivity to initial conditions. Additionally, the choice of clustering algorithm and its parameters can impact the results."
      ],
      "metadata": {
        "id": "TUMiHpNk1VvM"
      }
    },
    {
      "cell_type": "markdown",
      "source": [
        "In this code, we visualize the clusters based on the 'Ret2005.01' and 'Ret2005.02' columns for both Hierarchical and K-means clustering. You can modify the columns and aspects of the visualization to suit your needs.\n",
        "\n",
        "By comparing the visualizations and considering the percentage of matching assignments, you can assess whether the clusters obtained from the two methods are similar or different and make conclusions accordingly.\n",
        "\n",
        "\n",
        "\n",
        "\n",
        "\n",
        "\n"
      ],
      "metadata": {
        "id": "7gHibviJ1oOB"
      }
    },
    {
      "cell_type": "markdown",
      "source": [
        "C"
      ],
      "metadata": {
        "id": "Ox8Zgdd217_a"
      }
    },
    {
      "cell_type": "markdown",
      "source": [
        "Constructing a diverse portfolio of stocks is a cornerstone of risk management and investment strategy. Leveraging the results of clustering algorithms, specifically Hierarchical clustering and K-means clustering, offers a systematic approach to achieve this diversification objective.\n",
        "\n",
        "Cluster-Based Segmentation: Hierarchical clustering segments stocks into clusters based on historical return patterns, aiding sector diversification.\n",
        "\n",
        "Risk Assessment: Within each cluster, individual stock risk and return characteristics are assessed, allowing for risk-balanced stock selection within sectors.\n",
        "\n",
        "Stock Selection: The selection of representative stocks from each cluster, with an emphasis on low correlations, enhances diversification.\n",
        "\n",
        "Weighting: Assigning weights based on clusters optimizes diversification.\n",
        "\n",
        "K-means Clustering complements Hierarchical clustering:\n",
        "\n",
        "Cluster Comparison: Comparing K-means and Hierarchical results validates and refines clustering patterns.\n",
        "\n",
        "Risk Evaluation: K-means clusters reveal nuanced risk profiles, aiding in risk assessment.\n",
        "\n",
        "Diversification Strategy: Prioritizing stocks from different K-means clusters ensures diversification across risk categories.\n",
        "\n",
        "Synergistic Selection: Combining stocks from both clustering algorithms yields a diversified portfolio, capitalizing on their strengths.\n",
        "\n",
        "In conclusion, leveraging Hierarchical and K-means clustering for portfolio construction involves thoughtful stock selection and allocation. Hierarchical clustering aids sector-based diversification, while K-means adds granularity to risk profiles. Combining insights from both methods helps investors create a well-balanced portfolio that manages risk and optimizes returns. Regular monitoring and adjustments are essential to maintain portfolio diversity and resilience."
      ],
      "metadata": {
        "id": "2dTsrBFx187T"
      }
    }
  ]
}