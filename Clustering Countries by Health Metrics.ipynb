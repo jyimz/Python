{
  "nbformat": 4,
  "nbformat_minor": 0,
  "metadata": {
    "colab": {
      "provenance": [],
      "include_colab_link": true
    },
    "kernelspec": {
      "name": "python3",
      "display_name": "Python 3"
    },
    "language_info": {
      "name": "python"
    }
  },
  "cells": [
    {
      "cell_type": "markdown",
      "metadata": {
        "id": "view-in-github",
        "colab_type": "text"
      },
      "source": [
        "<a href=\"https://colab.research.google.com/github/jyimz/Python_Data_Projects/blob/main/Clustering%20Countries%20by%20Health%20Metrics.ipynb\" target=\"_parent\"><img src=\"https://colab.research.google.com/assets/colab-badge.svg\" alt=\"Open In Colab\"/></a>"
      ]
    },
    {
      "cell_type": "code",
      "execution_count": null,
      "metadata": {
        "colab": {
          "base_uri": "https://localhost:8080/"
        },
        "id": "P3fWfn9UqHZi",
        "outputId": "9f3bad39-4d5b-45e1-cb62-96d5767baec7"
      },
      "outputs": [
        {
          "output_type": "stream",
          "name": "stdout",
          "text": [
            "<class 'pandas.core.frame.DataFrame'>\n",
            "RangeIndex: 194 entries, 0 to 193\n",
            "Data columns (total 10 columns):\n",
            " #   Column               Non-Null Count  Dtype  \n",
            "---  ------               --------------  -----  \n",
            " 0   Country              194 non-null    object \n",
            " 1   Region               194 non-null    object \n",
            " 2   Population           194 non-null    int64  \n",
            " 3   Under15              194 non-null    float64\n",
            " 4   Over60               194 non-null    float64\n",
            " 5   FertilityRate        183 non-null    float64\n",
            " 6   LifeExpectancy       194 non-null    int64  \n",
            " 7   CellularSubscribers  184 non-null    float64\n",
            " 8   LiteracyRate         103 non-null    float64\n",
            " 9   GNI                  162 non-null    float64\n",
            "dtypes: float64(6), int64(2), object(2)\n",
            "memory usage: 15.3+ KB\n",
            "None\n",
            "<class 'pandas.core.frame.DataFrame'>\n",
            "RangeIndex: 194 entries, 0 to 193\n",
            "Data columns (total 4 columns):\n",
            " #   Column          Non-Null Count  Dtype  \n",
            "---  ------          --------------  -----  \n",
            " 0   Population      194 non-null    int64  \n",
            " 1   Under15         194 non-null    float64\n",
            " 2   Over60          194 non-null    float64\n",
            " 3   LifeExpectancy  194 non-null    int64  \n",
            "dtypes: float64(2), int64(2)\n",
            "memory usage: 6.2 KB\n",
            "None\n",
            "0.0\n",
            "0.9999999999999998\n",
            "1    97\n",
            "0    95\n",
            "2     2\n",
            "Name: Cluster, dtype: int64\n",
            "Cluster\n",
            "0    2.395713e+04\n",
            "1    2.214338e+04\n",
            "2    1.315000e+06\n",
            "Name: Population, dtype: float64\n",
            "Cluster\n",
            "0    19.893053\n",
            "1    37.493505\n",
            "2    23.690000\n",
            "Name: Under15, dtype: float64\n"
          ]
        },
        {
          "output_type": "stream",
          "name": "stderr",
          "text": [
            "/usr/local/lib/python3.10/dist-packages/sklearn/cluster/_kmeans.py:870: FutureWarning: The default value of `n_init` will change from 10 to 'auto' in 1.4. Set the value of `n_init` explicitly to suppress the warning\n",
            "  warnings.warn(\n"
          ]
        }
      ],
      "source": [
        "import pandas as pd\n",
        "from sklearn.preprocessing import StandardScaler\n",
        "from sklearn.cluster import KMeans\n",
        "\n",
        "# Reading the CSV file\n",
        "WHO = pd.read_csv(\"WHO.csv\")\n",
        "print(WHO.info())\n",
        "\n",
        "# Selecting certain columns for clustering\n",
        "WHOCluster = WHO[[\"Population\", \"Under15\", \"Over60\", \"LifeExpectancy\"]]\n",
        "print(WHOCluster.info())\n",
        "\n",
        "# Normalization\n",
        "scaler = StandardScaler()\n",
        "WHOClusterNorm = scaler.fit_transform(WHOCluster)\n",
        "\n",
        "# Checking the mean and standard deviation of the normalized population column\n",
        "# The mean should be approximately 0 and the standard deviation should be approximately 1\n",
        "print(WHOClusterNorm[:, 0].mean())  # Index 0 is the Population column after normalization\n",
        "print(WHOClusterNorm[:, 0].std())\n",
        "\n",
        "# K-means clustering\n",
        "kmeans = KMeans(n_clusters=3, random_state=88)\n",
        "KmeansClustering = kmeans.fit(WHOClusterNorm)\n",
        "\n",
        "# Examination of results\n",
        "clusters = KmeansClustering.labels_\n",
        "\n",
        "# Creating a DataFrame to display cluster results\n",
        "clustered_data = WHOCluster.copy()\n",
        "clustered_data['Cluster'] = clusters\n",
        "\n",
        "# Viewing the number of items in each cluster\n",
        "print(clustered_data['Cluster'].value_counts())\n",
        "\n",
        "# Computing the mean of the original columns grouped by the cluster\n",
        "population_means = clustered_data.groupby('Cluster')['Population'].mean()\n",
        "under15_means = clustered_data.groupby('Cluster')['Under15'].mean()\n",
        "\n",
        "print(population_means)\n",
        "print(under15_means)\n"
      ]
    }
  ]
}