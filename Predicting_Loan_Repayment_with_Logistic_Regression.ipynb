{
  "nbformat": 4,
  "nbformat_minor": 0,
  "metadata": {
    "colab": {
      "provenance": [],
      "authorship_tag": "ABX9TyOq34L5cVlhUDWU0DEgOgl8",
      "include_colab_link": true
    },
    "kernelspec": {
      "name": "python3",
      "display_name": "Python 3"
    },
    "language_info": {
      "name": "python"
    }
  },
  "cells": [
    {
      "cell_type": "markdown",
      "metadata": {
        "id": "view-in-github",
        "colab_type": "text"
      },
      "source": [
        "<a href=\"https://colab.research.google.com/github/jyimz/Python_Data_Projects/blob/main/Predicting_Loan_Repayment_with_Logistic_Regression.ipynb\" target=\"_parent\"><img src=\"https://colab.research.google.com/assets/colab-badge.svg\" alt=\"Open In Colab\"/></a>"
      ]
    },
    {
      "cell_type": "code",
      "execution_count": null,
      "metadata": {
        "colab": {
          "base_uri": "https://localhost:8080/"
        },
        "id": "MQRrC_nuYj87",
        "outputId": "d002a877-7b0a-4555-b0c1-908b3c038096"
      },
      "outputs": [
        {
          "output_type": "stream",
          "name": "stdout",
          "text": [
            "<class 'pandas.core.frame.DataFrame'>\n",
            "RangeIndex: 9578 entries, 0 to 9577\n",
            "Data columns (total 14 columns):\n",
            " #   Column          Non-Null Count  Dtype  \n",
            "---  ------          --------------  -----  \n",
            " 0   CreditPolicy    9578 non-null   int64  \n",
            " 1   Purpose         9578 non-null   object \n",
            " 2   IntRate         9578 non-null   float64\n",
            " 3   Installment     9578 non-null   float64\n",
            " 4   LogAnnualInc    9578 non-null   float64\n",
            " 5   Dti             9578 non-null   float64\n",
            " 6   Fico            9578 non-null   int64  \n",
            " 7   DaysWithCrLine  9578 non-null   float64\n",
            " 8   RevolBal        9578 non-null   int64  \n",
            " 9   RevolUtil       9578 non-null   float64\n",
            " 10  InqLast6mths    9578 non-null   int64  \n",
            " 11  Delinq2yrs      9578 non-null   int64  \n",
            " 12  PubRec          9578 non-null   int64  \n",
            " 13  NotFullyPaid    9578 non-null   int64  \n",
            "dtypes: float64(6), int64(7), object(1)\n",
            "memory usage: 1.0+ MB\n",
            "       CreditPolicy      IntRate  Installment  LogAnnualInc          Dti  \\\n",
            "count   9578.000000  9578.000000  9578.000000   9578.000000  9578.000000   \n",
            "mean       0.804970     0.122640   319.089413     10.932117    12.606679   \n",
            "std        0.396245     0.026847   207.071301      0.614813     6.883970   \n",
            "min        0.000000     0.060000    15.670000      7.547502     0.000000   \n",
            "25%        1.000000     0.103900   163.770000     10.558414     7.212500   \n",
            "50%        1.000000     0.122100   268.950000     10.928884    12.665000   \n",
            "75%        1.000000     0.140700   432.762500     11.291293    17.950000   \n",
            "max        1.000000     0.216400   940.140000     14.528354    29.960000   \n",
            "\n",
            "              Fico  DaysWithCrLine      RevolBal    RevolUtil  InqLast6mths  \\\n",
            "count  9578.000000     9578.000000  9.578000e+03  9578.000000   9578.000000   \n",
            "mean    710.846314     4560.767197  1.691396e+04    46.799236      1.577469   \n",
            "std      37.970537     2496.930377  3.375619e+04    29.014417      2.200245   \n",
            "min     612.000000      178.958333  0.000000e+00     0.000000      0.000000   \n",
            "25%     682.000000     2820.000000  3.187000e+03    22.600000      0.000000   \n",
            "50%     707.000000     4139.958333  8.596000e+03    46.300000      1.000000   \n",
            "75%     737.000000     5730.000000  1.824950e+04    70.900000      2.000000   \n",
            "max     827.000000    17639.958330  1.207359e+06   119.000000     33.000000   \n",
            "\n",
            "        Delinq2yrs       PubRec  NotFullyPaid  \n",
            "count  9578.000000  9578.000000   9578.000000  \n",
            "mean      0.163708     0.062122      0.160054  \n",
            "std       0.546215     0.262126      0.366676  \n",
            "min       0.000000     0.000000      0.000000  \n",
            "25%       0.000000     0.000000      0.000000  \n",
            "50%       0.000000     0.000000      0.000000  \n",
            "75%       0.000000     0.000000      0.000000  \n",
            "max      13.000000     5.000000      1.000000  \n"
          ]
        }
      ],
      "source": [
        "import pandas as pd\n",
        "import numpy as np\n",
        "import matplotlib.pyplot as plt\n",
        "import statsmodels.formula.api as smf\n",
        "from sklearn.model_selection import train_test_split\n",
        "df = pd.read_csv(\"https://raw.githubusercontent.com/amandeep0/IS451/main/data/loans.csv\")\n",
        "\n",
        "df.head()\n",
        "df.info()\n",
        "print(df.describe())"
      ]
    },
    {
      "cell_type": "code",
      "source": [
        "df_train, df_test = train_test_split(df, test_size=0.3, random_state=42, stratify=df['NotFullyPaid'])\n",
        "baseline_accuracy = (df_test == 0).mean()\n",
        "baseline_accuracy"
      ],
      "metadata": {
        "colab": {
          "base_uri": "https://localhost:8080/"
        },
        "id": "ukrJOEf1YsI-",
        "outputId": "cbe47185-ae64-424f-f4b4-26e0e3fccdf2"
      },
      "execution_count": null,
      "outputs": [
        {
          "output_type": "execute_result",
          "data": {
            "text/plain": [
              "CreditPolicy      0.196242\n",
              "Purpose           0.000000\n",
              "IntRate           0.000000\n",
              "Installment       0.000000\n",
              "LogAnnualInc      0.000000\n",
              "Dti               0.011134\n",
              "Fico              0.000000\n",
              "DaysWithCrLine    0.000000\n",
              "RevolBal          0.032707\n",
              "RevolUtil         0.030967\n",
              "InqLast6mths      0.371260\n",
              "Delinq2yrs        0.885873\n",
              "PubRec            0.948156\n",
              "NotFullyPaid      0.839944\n",
              "dtype: float64"
            ]
          },
          "metadata": {},
          "execution_count": 3
        }
      ]
    },
    {
      "cell_type": "markdown",
      "source": [
        "**ai). Baseline Accuracy: NotFullyPaid =\n",
        "0.839944**"
      ],
      "metadata": {
        "id": "9FY2O7Kab2wE"
      }
    },
    {
      "cell_type": "code",
      "source": [
        "logit_regression = smf.logit('NotFullyPaid ~ CreditPolicy + Purpose + IntRate + Installment + LogAnnualInc + Dti + Fico + DaysWithCrLine + RevolBal + RevolUtil + InqLast6mths + Delinq2yrs + PubRec', data=df_train)\n",
        "logit_results = logit_regression.fit()\n",
        "print(logit_results.summary())"
      ],
      "metadata": {
        "colab": {
          "base_uri": "https://localhost:8080/"
        },
        "id": "VWiv62IlcY1H",
        "outputId": "6d0542d1-3119-46b3-9034-81879cd61b31"
      },
      "execution_count": null,
      "outputs": [
        {
          "output_type": "stream",
          "name": "stdout",
          "text": [
            "Optimization terminated successfully.\n",
            "         Current function value: 0.408503\n",
            "         Iterations 7\n",
            "                           Logit Regression Results                           \n",
            "==============================================================================\n",
            "Dep. Variable:           NotFullyPaid   No. Observations:                 6704\n",
            "Model:                          Logit   Df Residuals:                     6685\n",
            "Method:                           MLE   Df Model:                           18\n",
            "Date:                Fri, 10 Nov 2023   Pseudo R-squ.:                 0.07107\n",
            "Time:                        04:47:06   Log-Likelihood:                -2738.6\n",
            "converged:                       True   LL-Null:                       -2948.1\n",
            "Covariance Type:            nonrobust   LLR p-value:                 9.569e-78\n",
            "=================================================================================================\n",
            "                                    coef    std err          z      P>|z|      [0.025      0.975]\n",
            "-------------------------------------------------------------------------------------------------\n",
            "Intercept                         7.5239      1.533      4.908      0.000       4.519      10.529\n",
            "Purpose[T.credit_card]           -0.5935      0.131     -4.519      0.000      -0.851      -0.336\n",
            "Purpose[T.debt_consolidation]    -0.3487      0.092     -3.778      0.000      -0.530      -0.168\n",
            "Purpose[T.educational]           -0.0655      0.187     -0.351      0.726      -0.431       0.300\n",
            "Purpose[T.home_improvement]       0.0849      0.151      0.562      0.574      -0.211       0.381\n",
            "Purpose[T.major_purchase]        -0.7125      0.216     -3.296      0.001      -1.136      -0.289\n",
            "Purpose[T.small_business]         0.5429      0.138      3.934      0.000       0.272       0.813\n",
            "CreditPolicy                     -0.3236      0.102     -3.177      0.001      -0.523      -0.124\n",
            "IntRate                           2.0479      2.053      0.998      0.318      -1.976       6.071\n",
            "Installment                       0.0011      0.000      5.361      0.000       0.001       0.002\n",
            "LogAnnualInc                     -0.3908      0.071     -5.509      0.000      -0.530      -0.252\n",
            "Dti                              -0.0025      0.005     -0.464      0.643      -0.013       0.008\n",
            "Fico                             -0.0079      0.002     -4.714      0.000      -0.011      -0.005\n",
            "DaysWithCrLine                 2.073e-05   1.55e-05      1.333      0.182   -9.74e-06    5.12e-05\n",
            "RevolBal                        2.67e-06   1.15e-06      2.330      0.020    4.24e-07    4.91e-06\n",
            "RevolUtil                         0.0037      0.002      2.391      0.017       0.001       0.007\n",
            "InqLast6mths                      0.1021      0.017      5.950      0.000       0.068       0.136\n",
            "Delinq2yrs                       -0.0573      0.066     -0.871      0.384      -0.186       0.072\n",
            "PubRec                            0.2030      0.115      1.771      0.077      -0.022       0.428\n",
            "=================================================================================================\n"
          ]
        }
      ]
    },
    {
      "cell_type": "markdown",
      "source": [
        "**aii). The resulting logistic regression model includes significant independent variables such as Purpose (credit card, debt consolidation, major purchase, small business), CreditPolicy, Installment, LogAnnualInc, Fico, RevolBal, RevolUtil, and InqLast6mths, indicating their effect on the likelihood of not fully paying back a loan.**"
      ],
      "metadata": {
        "id": "Ezm10ftQeI5Q"
      }
    },
    {
      "cell_type": "code",
      "source": [
        "Fico_A = 700\n",
        "Fico_B = 710\n",
        "coefficient_fico = -0.0079\n",
        "\n",
        "difference = coefficient_fico * (Fico_B - Fico_A)\n",
        "\n",
        "print(\"Logit(A) - Logit(B) =\", difference)"
      ],
      "metadata": {
        "colab": {
          "base_uri": "https://localhost:8080/"
        },
        "id": "0ZW7ceaBeHqC",
        "outputId": "3aeec421-6556-4cec-e0b0-81cada835d65"
      },
      "execution_count": null,
      "outputs": [
        {
          "output_type": "stream",
          "name": "stdout",
          "text": [
            "Logit(A) - Logit(B) = -0.07900000000000001\n"
          ]
        }
      ]
    },
    {
      "cell_type": "markdown",
      "source": [
        "**aiii). Logit(A) - Logit(B) = -0.07900000000000001**\n",
        "\n",
        "**Note that the coefficient for the \"Fico\" predictor needs to be negative because it is a coefficient in the log-odds scale.**"
      ],
      "metadata": {
        "id": "vZQSsHiNgOuZ"
      }
    },
    {
      "cell_type": "code",
      "source": [
        "df_test['PredictedRisk'] = logit_results.predict(df_test) > 0.5\n",
        "pd.crosstab(df_test['NotFullyPaid'], df_test['PredictedRisk'])"
      ],
      "metadata": {
        "colab": {
          "base_uri": "https://localhost:8080/",
          "height": 143
        },
        "id": "wab7nkzSgi28",
        "outputId": "ac5bf9ab-a36c-4d91-b76c-e2c6a87bae15"
      },
      "execution_count": null,
      "outputs": [
        {
          "output_type": "execute_result",
          "data": {
            "text/plain": [
              "PredictedRisk  False  True \n",
              "NotFullyPaid               \n",
              "0               2395     19\n",
              "1                443     17"
            ],
            "text/html": [
              "\n",
              "  <div id=\"df-69ad1222-a0b7-4a73-8368-5633a9303ad5\" class=\"colab-df-container\">\n",
              "    <div>\n",
              "<style scoped>\n",
              "    .dataframe tbody tr th:only-of-type {\n",
              "        vertical-align: middle;\n",
              "    }\n",
              "\n",
              "    .dataframe tbody tr th {\n",
              "        vertical-align: top;\n",
              "    }\n",
              "\n",
              "    .dataframe thead th {\n",
              "        text-align: right;\n",
              "    }\n",
              "</style>\n",
              "<table border=\"1\" class=\"dataframe\">\n",
              "  <thead>\n",
              "    <tr style=\"text-align: right;\">\n",
              "      <th>PredictedRisk</th>\n",
              "      <th>False</th>\n",
              "      <th>True</th>\n",
              "    </tr>\n",
              "    <tr>\n",
              "      <th>NotFullyPaid</th>\n",
              "      <th></th>\n",
              "      <th></th>\n",
              "    </tr>\n",
              "  </thead>\n",
              "  <tbody>\n",
              "    <tr>\n",
              "      <th>0</th>\n",
              "      <td>2395</td>\n",
              "      <td>19</td>\n",
              "    </tr>\n",
              "    <tr>\n",
              "      <th>1</th>\n",
              "      <td>443</td>\n",
              "      <td>17</td>\n",
              "    </tr>\n",
              "  </tbody>\n",
              "</table>\n",
              "</div>\n",
              "    <div class=\"colab-df-buttons\">\n",
              "\n",
              "  <div class=\"colab-df-container\">\n",
              "    <button class=\"colab-df-convert\" onclick=\"convertToInteractive('df-69ad1222-a0b7-4a73-8368-5633a9303ad5')\"\n",
              "            title=\"Convert this dataframe to an interactive table.\"\n",
              "            style=\"display:none;\">\n",
              "\n",
              "  <svg xmlns=\"http://www.w3.org/2000/svg\" height=\"24px\" viewBox=\"0 -960 960 960\">\n",
              "    <path d=\"M120-120v-720h720v720H120Zm60-500h600v-160H180v160Zm220 220h160v-160H400v160Zm0 220h160v-160H400v160ZM180-400h160v-160H180v160Zm440 0h160v-160H620v160ZM180-180h160v-160H180v160Zm440 0h160v-160H620v160Z\"/>\n",
              "  </svg>\n",
              "    </button>\n",
              "\n",
              "  <style>\n",
              "    .colab-df-container {\n",
              "      display:flex;\n",
              "      gap: 12px;\n",
              "    }\n",
              "\n",
              "    .colab-df-convert {\n",
              "      background-color: #E8F0FE;\n",
              "      border: none;\n",
              "      border-radius: 50%;\n",
              "      cursor: pointer;\n",
              "      display: none;\n",
              "      fill: #1967D2;\n",
              "      height: 32px;\n",
              "      padding: 0 0 0 0;\n",
              "      width: 32px;\n",
              "    }\n",
              "\n",
              "    .colab-df-convert:hover {\n",
              "      background-color: #E2EBFA;\n",
              "      box-shadow: 0px 1px 2px rgba(60, 64, 67, 0.3), 0px 1px 3px 1px rgba(60, 64, 67, 0.15);\n",
              "      fill: #174EA6;\n",
              "    }\n",
              "\n",
              "    .colab-df-buttons div {\n",
              "      margin-bottom: 4px;\n",
              "    }\n",
              "\n",
              "    [theme=dark] .colab-df-convert {\n",
              "      background-color: #3B4455;\n",
              "      fill: #D2E3FC;\n",
              "    }\n",
              "\n",
              "    [theme=dark] .colab-df-convert:hover {\n",
              "      background-color: #434B5C;\n",
              "      box-shadow: 0px 1px 3px 1px rgba(0, 0, 0, 0.15);\n",
              "      filter: drop-shadow(0px 1px 2px rgba(0, 0, 0, 0.3));\n",
              "      fill: #FFFFFF;\n",
              "    }\n",
              "  </style>\n",
              "\n",
              "    <script>\n",
              "      const buttonEl =\n",
              "        document.querySelector('#df-69ad1222-a0b7-4a73-8368-5633a9303ad5 button.colab-df-convert');\n",
              "      buttonEl.style.display =\n",
              "        google.colab.kernel.accessAllowed ? 'block' : 'none';\n",
              "\n",
              "      async function convertToInteractive(key) {\n",
              "        const element = document.querySelector('#df-69ad1222-a0b7-4a73-8368-5633a9303ad5');\n",
              "        const dataTable =\n",
              "          await google.colab.kernel.invokeFunction('convertToInteractive',\n",
              "                                                    [key], {});\n",
              "        if (!dataTable) return;\n",
              "\n",
              "        const docLinkHtml = 'Like what you see? Visit the ' +\n",
              "          '<a target=\"_blank\" href=https://colab.research.google.com/notebooks/data_table.ipynb>data table notebook</a>'\n",
              "          + ' to learn more about interactive tables.';\n",
              "        element.innerHTML = '';\n",
              "        dataTable['output_type'] = 'display_data';\n",
              "        await google.colab.output.renderOutput(dataTable, element);\n",
              "        const docLink = document.createElement('div');\n",
              "        docLink.innerHTML = docLinkHtml;\n",
              "        element.appendChild(docLink);\n",
              "      }\n",
              "    </script>\n",
              "  </div>\n",
              "\n",
              "\n",
              "<div id=\"df-1da73258-9d5f-48c7-8797-cd53f4a9782b\">\n",
              "  <button class=\"colab-df-quickchart\" onclick=\"quickchart('df-1da73258-9d5f-48c7-8797-cd53f4a9782b')\"\n",
              "            title=\"Suggest charts\"\n",
              "            style=\"display:none;\">\n",
              "\n",
              "<svg xmlns=\"http://www.w3.org/2000/svg\" height=\"24px\"viewBox=\"0 0 24 24\"\n",
              "     width=\"24px\">\n",
              "    <g>\n",
              "        <path d=\"M19 3H5c-1.1 0-2 .9-2 2v14c0 1.1.9 2 2 2h14c1.1 0 2-.9 2-2V5c0-1.1-.9-2-2-2zM9 17H7v-7h2v7zm4 0h-2V7h2v10zm4 0h-2v-4h2v4z\"/>\n",
              "    </g>\n",
              "</svg>\n",
              "  </button>\n",
              "\n",
              "<style>\n",
              "  .colab-df-quickchart {\n",
              "      --bg-color: #E8F0FE;\n",
              "      --fill-color: #1967D2;\n",
              "      --hover-bg-color: #E2EBFA;\n",
              "      --hover-fill-color: #174EA6;\n",
              "      --disabled-fill-color: #AAA;\n",
              "      --disabled-bg-color: #DDD;\n",
              "  }\n",
              "\n",
              "  [theme=dark] .colab-df-quickchart {\n",
              "      --bg-color: #3B4455;\n",
              "      --fill-color: #D2E3FC;\n",
              "      --hover-bg-color: #434B5C;\n",
              "      --hover-fill-color: #FFFFFF;\n",
              "      --disabled-bg-color: #3B4455;\n",
              "      --disabled-fill-color: #666;\n",
              "  }\n",
              "\n",
              "  .colab-df-quickchart {\n",
              "    background-color: var(--bg-color);\n",
              "    border: none;\n",
              "    border-radius: 50%;\n",
              "    cursor: pointer;\n",
              "    display: none;\n",
              "    fill: var(--fill-color);\n",
              "    height: 32px;\n",
              "    padding: 0;\n",
              "    width: 32px;\n",
              "  }\n",
              "\n",
              "  .colab-df-quickchart:hover {\n",
              "    background-color: var(--hover-bg-color);\n",
              "    box-shadow: 0 1px 2px rgba(60, 64, 67, 0.3), 0 1px 3px 1px rgba(60, 64, 67, 0.15);\n",
              "    fill: var(--button-hover-fill-color);\n",
              "  }\n",
              "\n",
              "  .colab-df-quickchart-complete:disabled,\n",
              "  .colab-df-quickchart-complete:disabled:hover {\n",
              "    background-color: var(--disabled-bg-color);\n",
              "    fill: var(--disabled-fill-color);\n",
              "    box-shadow: none;\n",
              "  }\n",
              "\n",
              "  .colab-df-spinner {\n",
              "    border: 2px solid var(--fill-color);\n",
              "    border-color: transparent;\n",
              "    border-bottom-color: var(--fill-color);\n",
              "    animation:\n",
              "      spin 1s steps(1) infinite;\n",
              "  }\n",
              "\n",
              "  @keyframes spin {\n",
              "    0% {\n",
              "      border-color: transparent;\n",
              "      border-bottom-color: var(--fill-color);\n",
              "      border-left-color: var(--fill-color);\n",
              "    }\n",
              "    20% {\n",
              "      border-color: transparent;\n",
              "      border-left-color: var(--fill-color);\n",
              "      border-top-color: var(--fill-color);\n",
              "    }\n",
              "    30% {\n",
              "      border-color: transparent;\n",
              "      border-left-color: var(--fill-color);\n",
              "      border-top-color: var(--fill-color);\n",
              "      border-right-color: var(--fill-color);\n",
              "    }\n",
              "    40% {\n",
              "      border-color: transparent;\n",
              "      border-right-color: var(--fill-color);\n",
              "      border-top-color: var(--fill-color);\n",
              "    }\n",
              "    60% {\n",
              "      border-color: transparent;\n",
              "      border-right-color: var(--fill-color);\n",
              "    }\n",
              "    80% {\n",
              "      border-color: transparent;\n",
              "      border-right-color: var(--fill-color);\n",
              "      border-bottom-color: var(--fill-color);\n",
              "    }\n",
              "    90% {\n",
              "      border-color: transparent;\n",
              "      border-bottom-color: var(--fill-color);\n",
              "    }\n",
              "  }\n",
              "</style>\n",
              "\n",
              "  <script>\n",
              "    async function quickchart(key) {\n",
              "      const quickchartButtonEl =\n",
              "        document.querySelector('#' + key + ' button');\n",
              "      quickchartButtonEl.disabled = true;  // To prevent multiple clicks.\n",
              "      quickchartButtonEl.classList.add('colab-df-spinner');\n",
              "      try {\n",
              "        const charts = await google.colab.kernel.invokeFunction(\n",
              "            'suggestCharts', [key], {});\n",
              "      } catch (error) {\n",
              "        console.error('Error during call to suggestCharts:', error);\n",
              "      }\n",
              "      quickchartButtonEl.classList.remove('colab-df-spinner');\n",
              "      quickchartButtonEl.classList.add('colab-df-quickchart-complete');\n",
              "    }\n",
              "    (() => {\n",
              "      let quickchartButtonEl =\n",
              "        document.querySelector('#df-1da73258-9d5f-48c7-8797-cd53f4a9782b button');\n",
              "      quickchartButtonEl.style.display =\n",
              "        google.colab.kernel.accessAllowed ? 'block' : 'none';\n",
              "    })();\n",
              "  </script>\n",
              "</div>\n",
              "    </div>\n",
              "  </div>\n"
            ]
          },
          "metadata": {},
          "execution_count": 6
        }
      ]
    },
    {
      "cell_type": "code",
      "source": [
        "accuracy = (df_test['PredictedRisk'] == df_test['NotFullyPaid']).mean()\n",
        "\n",
        "print(\"Accuracy:\", accuracy)"
      ],
      "metadata": {
        "colab": {
          "base_uri": "https://localhost:8080/"
        },
        "id": "jyZcDNskhurK",
        "outputId": "3f01ea82-d619-4dd1-9a7d-ed702fec5c84"
      },
      "execution_count": null,
      "outputs": [
        {
          "output_type": "stream",
          "name": "stdout",
          "text": [
            "Accuracy: 0.8392484342379958\n"
          ]
        }
      ]
    },
    {
      "cell_type": "markdown",
      "source": [
        "**aiv). New Accuracy = 0.8392484342379958**\n",
        "\n",
        "**The accuracy of the logistic regression model on the test set using a threshold of 0.5 is approximately 0.8392. The accuracy of the baseline model is 0.8399.**\n",
        "\n",
        "**We can see that the logistic regression model performs slightly worse than the baseline model in terms of accuracy. However, the difference in accuracy between the two models is very small.**"
      ],
      "metadata": {
        "id": "WdTIPMLXhvMw"
      }
    },
    {
      "cell_type": "code",
      "source": [
        "from sklearn.metrics import confusion_matrix, roc_curve, auc\n",
        "\n",
        "# Make predictions on both training and test sets\n",
        "y_train_pred = logit_results.predict(df_train)\n",
        "y_test_pred = logit_results.predict(df_test)\n",
        "\n",
        "# Create a Pandas DataFrame for each set of predictions\n",
        "train_predictions = pd.DataFrame({'Actual': df_train[\"NotFullyPaid\"], 'Predicted': (y_train_pred > 0.5).astype(int)})\n",
        "test_predictions = pd.DataFrame({'Actual': df_test[\"NotFullyPaid\"], 'Predicted': (y_test_pred > 0.5).astype(int)})\n",
        "\n",
        "# Calculate cross-tabulation tables for both training and test sets\n",
        "train_cross_tab = pd.crosstab(train_predictions['Actual'], train_predictions['Predicted'], rownames=['Actual'], colnames=['Predicted'])\n",
        "test_cross_tab = pd.crosstab(test_predictions['Actual'], test_predictions['Predicted'], rownames=['Actual'], colnames=['Predicted'])\n",
        "\n",
        "print(train_cross_tab)\n",
        "print(test_cross_tab)"
      ],
      "metadata": {
        "colab": {
          "base_uri": "https://localhost:8080/"
        },
        "id": "ginaWA-9jxsj",
        "outputId": "6908fbd4-86c5-4db8-a91f-a997401bf3d0"
      },
      "execution_count": null,
      "outputs": [
        {
          "output_type": "stream",
          "name": "stdout",
          "text": [
            "Predicted     0   1\n",
            "Actual             \n",
            "0          5596  35\n",
            "1          1038  35\n",
            "Predicted     0   1\n",
            "Actual             \n",
            "0          2395  19\n",
            "1           443  17\n"
          ]
        }
      ]
    },
    {
      "cell_type": "code",
      "source": [
        "y_train = df_train[\"NotFullyPaid\"]\n",
        "y_test = df_test[\"NotFullyPaid\"]"
      ],
      "metadata": {
        "id": "wTAZaWDtlt8J"
      },
      "execution_count": null,
      "outputs": []
    },
    {
      "cell_type": "code",
      "source": [
        "fpr_train, tpr_train, _ = roc_curve(y_train, y_train_pred)\n",
        "roc_auc_train = auc(fpr_train, tpr_train)\n",
        "\n",
        "fpr_test, tpr_test, _ = roc_curve(y_test, y_test_pred)\n",
        "roc_auc_test = auc(fpr_test, tpr_test)\n",
        "\n",
        "print(roc_auc_train)\n",
        "print(roc_auc_test)"
      ],
      "metadata": {
        "colab": {
          "base_uri": "https://localhost:8080/"
        },
        "id": "ZiBqnfbalx3I",
        "outputId": "9ce69ac3-fc9f-412a-9037-3315ceb3685c"
      },
      "execution_count": null,
      "outputs": [
        {
          "output_type": "stream",
          "name": "stdout",
          "text": [
            "0.6891376339505232\n",
            "0.669282446597745\n"
          ]
        }
      ]
    },
    {
      "cell_type": "code",
      "source": [
        "TP = 17\n",
        "FP = 443\n",
        "FN = 19\n",
        "\n",
        "precision = TP / (TP + FP)\n",
        "recall = TP / (TP + FN)\n",
        "f1_score = 2 * (precision * recall) / (precision + recall)\n",
        "\n",
        "print(f\"Precision: {precision:.2f}\")\n",
        "print(f\"Recall: {recall:.2f}\")\n",
        "print(f\"F1 Score: {f1_score:.2f}\")\n"
      ],
      "metadata": {
        "colab": {
          "base_uri": "https://localhost:8080/"
        },
        "id": "EnWrIhQsFUxb",
        "outputId": "f3be5bf7-7139-4054-d415-69425cef048a"
      },
      "execution_count": null,
      "outputs": [
        {
          "output_type": "stream",
          "name": "stdout",
          "text": [
            "Precision: 0.04\n",
            "Recall: 0.47\n",
            "F1 Score: 0.07\n"
          ]
        }
      ]
    },
    {
      "cell_type": "markdown",
      "source": [
        "**av). The ROC AUC score of the logistic regression model on the train set is approximately 0.6891. The ROC AUC score of the logistic regression model on the test set is approximately 0.6693.**\n",
        "\n",
        "**While an accuracy of 0.8392 is relatively high, suggesting the model can predict correctly in most cases, the AUC of 0.6693 indicates that the model's ability to rank risks or distinguish between positive and negative returns is relatively weak.**\n",
        "\n",
        "**Precision: 0.04**\n",
        "\n",
        "**Recall: 0.47**\n",
        "\n",
        "**F1 Score: 0.07**"
      ],
      "metadata": {
        "id": "Ed1UAPzUl5Mx"
      }
    },
    {
      "cell_type": "code",
      "source": [
        "logit_reg_rate = smf.logit(\"NotFullyPaid ~ IntRate\", data = df_train)\n",
        "logit_reg_rate_results = logit_reg_rate.fit()\n",
        "print(logit_reg_rate_results.summary())"
      ],
      "metadata": {
        "colab": {
          "base_uri": "https://localhost:8080/"
        },
        "id": "q4t0ZStPlzfd",
        "outputId": "df2da876-e798-4431-93c2-4ca859d88f26"
      },
      "execution_count": null,
      "outputs": [
        {
          "output_type": "stream",
          "name": "stdout",
          "text": [
            "Optimization terminated successfully.\n",
            "         Current function value: 0.426440\n",
            "         Iterations 6\n",
            "                           Logit Regression Results                           \n",
            "==============================================================================\n",
            "Dep. Variable:           NotFullyPaid   No. Observations:                 6704\n",
            "Model:                          Logit   Df Residuals:                     6702\n",
            "Method:                           MLE   Df Model:                            1\n",
            "Date:                Fri, 10 Nov 2023   Pseudo R-squ.:                 0.03029\n",
            "Time:                        04:47:25   Log-Likelihood:                -2858.9\n",
            "converged:                       True   LL-Null:                       -2948.1\n",
            "Covariance Type:            nonrobust   LLR p-value:                 9.877e-41\n",
            "==============================================================================\n",
            "                 coef    std err          z      P>|z|      [0.025      0.975]\n",
            "------------------------------------------------------------------------------\n",
            "Intercept     -3.7806      0.170    -22.263      0.000      -4.113      -3.448\n",
            "IntRate       16.7572      1.275     13.140      0.000      14.258      19.257\n",
            "==============================================================================\n"
          ]
        }
      ]
    },
    {
      "cell_type": "markdown",
      "source": [
        "**bi). IntRate is significant in this model as indicated by its p-value of 0.000. This suggests that the relationship between the interest rate and the probability of the loan not being fully paid is unlikely to be due to chance.**\n",
        "\n",
        "**No, the variable IntRate was not significant in the frrst model as indicated by its p-value of 0.318. This means that the relationship between the interest rate and the probability of the loan not being fully paid is likely due to chance.**"
      ],
      "metadata": {
        "id": "He6N_6N2odq1"
      }
    },
    {
      "cell_type": "code",
      "source": [
        "train_int_rate_predictions = logit_reg_rate_results.predict(df_test['IntRate'])\n",
        "highest_int_rate_predictions = max(train_int_rate_predictions)\n",
        "predictions = (train_int_rate_predictions > 0.5).astype(int)\n",
        "pred_not_fully_paid = sum(predictions)\n",
        "print(highest_int_rate_predictions)\n",
        "print(pred_not_fully_paid)"
      ],
      "metadata": {
        "colab": {
          "base_uri": "https://localhost:8080/"
        },
        "id": "kRFooI8xri20",
        "outputId": "9a48b612-1242-4312-bbb4-779f454a8c66"
      },
      "execution_count": null,
      "outputs": [
        {
          "output_type": "stream",
          "name": "stdout",
          "text": [
            "0.44362906300227267\n",
            "0\n"
          ]
        }
      ]
    },
    {
      "cell_type": "markdown",
      "source": [
        "**bii). Highest predicted probability of a loan not being paid back in full: 0.44362906300227267**\n",
        "\n",
        "**Number of loans predicted as not fully paid back: 0**"
      ],
      "metadata": {
        "id": "CeX3WDHZtWyf"
      }
    },
    {
      "cell_type": "code",
      "source": [
        "from sklearn.metrics import confusion_matrix, roc_curve, auc\n",
        "\n",
        "# Make predictions on both training and test sets\n",
        "y_train_int_rate = logit_reg_rate_results.predict(df_train)\n",
        "y_test_int_rate = logit_reg_rate_results.predict(df_test)\n",
        "\n",
        "# Create a Pandas DataFrame for each set of predictions\n",
        "train_int_rate_predictions = pd.DataFrame({'Actual': df_train[\"NotFullyPaid\"], 'Predicted': (y_train_int_rate > 0.5).astype(int)})\n",
        "test_int_rate_predictions = pd.DataFrame({'Actual': df_test[\"NotFullyPaid\"], 'Predicted': (y_test_int_rate > 0.5).astype(int)})\n",
        "\n",
        "# Calculate cross-tabulation tables for both training and test sets\n",
        "train_cross_tab_int = pd.crosstab(train_int_rate_predictions['Actual'], train_int_rate_predictions['Predicted'], rownames=['Actual'], colnames=['Predicted'])\n",
        "test_cross_tab_int = pd.crosstab(test_int_rate_predictions['Actual'], test_int_rate_predictions['Predicted'], rownames=['Actual'], colnames=['Predicted'])\n",
        "\n",
        "print(train_cross_tab_int)\n",
        "print(test_cross_tab_int)"
      ],
      "metadata": {
        "colab": {
          "base_uri": "https://localhost:8080/"
        },
        "id": "nieOKqwml-lJ",
        "outputId": "f5df25b5-42e2-4a78-8ad0-4e8efea6cf1b"
      },
      "execution_count": null,
      "outputs": [
        {
          "output_type": "stream",
          "name": "stdout",
          "text": [
            "Predicted     0\n",
            "Actual         \n",
            "0          5631\n",
            "1          1073\n",
            "Predicted     0\n",
            "Actual         \n",
            "0          2414\n",
            "1           460\n"
          ]
        }
      ]
    },
    {
      "cell_type": "code",
      "source": [
        "accuracy_b = (df_test['PredictedRisk'] == df_test['NotFullyPaid']).mean()\n",
        "\n",
        "print(\"Accuracy:\", accuracy_b)"
      ],
      "metadata": {
        "colab": {
          "base_uri": "https://localhost:8080/"
        },
        "id": "LciVqmkQDHJq",
        "outputId": "a602ed23-cb59-4be0-a6ec-7bba97708daa"
      },
      "execution_count": null,
      "outputs": [
        {
          "output_type": "stream",
          "name": "stdout",
          "text": [
            "Accuracy: 0.8392484342379958\n"
          ]
        }
      ]
    },
    {
      "cell_type": "code",
      "source": [
        "TP = 2414\n",
        "FP = 1\n",
        "FN = 460\n",
        "\n",
        "# Calculate precision\n",
        "precision = TP / (TP + FP)\n",
        "\n",
        "# Calculate recall\n",
        "recall = TP / (TP + FN)\n",
        "\n",
        "# Calculate F1 score\n",
        "f1_score = 2 * (precision * recall) / (precision + recall)\n",
        "\n",
        "print(f\"Precision: {precision:.2f}\")\n",
        "print(f\"Recall: {recall:.2f}\")\n",
        "print(f\"F1 Score: {f1_score:.2f}\")"
      ],
      "metadata": {
        "colab": {
          "base_uri": "https://localhost:8080/"
        },
        "id": "2cN4T6n4GcQ0",
        "outputId": "f5586e76-df51-4404-b31f-572d75fe47df"
      },
      "execution_count": null,
      "outputs": [
        {
          "output_type": "stream",
          "name": "stdout",
          "text": [
            "Precision: 1.00\n",
            "Recall: 0.84\n",
            "F1 Score: 0.91\n"
          ]
        }
      ]
    },
    {
      "cell_type": "code",
      "source": [
        "def calculate_recall(tp, fn):\n",
        "    recall = tp / (tp"
      ],
      "metadata": {
        "id": "aGDPujvFHCKy",
        "colab": {
          "base_uri": "https://localhost:8080/",
          "height": 143
        },
        "outputId": "baeb61aa-5268-470d-f19b-a4c15f85679b"
      },
      "execution_count": null,
      "outputs": [
        {
          "output_type": "error",
          "ename": "SyntaxError",
          "evalue": "ignored",
          "traceback": [
            "\u001b[0;36m  File \u001b[0;32m\"<ipython-input-17-e934726d3e83>\"\u001b[0;36m, line \u001b[0;32m2\u001b[0m\n\u001b[0;31m    recall = tp / (tp\u001b[0m\n\u001b[0m                     ^\u001b[0m\n\u001b[0;31mSyntaxError\u001b[0m\u001b[0;31m:\u001b[0m incomplete input\n"
          ]
        }
      ]
    },
    {
      "cell_type": "code",
      "source": [
        "y_train_b = df_train[\"NotFullyPaid\"]\n",
        "y_test_b = df_test[\"NotFullyPaid\"]\n",
        "\n",
        "fpr_train_b, tpr_train_b, _ = roc_curve(y_train_b, y_train_int_rate)\n",
        "roc_auc_train_b = auc(fpr_train_b, tpr_train_b)\n",
        "\n",
        "fpr_test_b, tpr_test_b, _ = roc_curve(y_test_b, y_test_int_rate)\n",
        "roc_auc_test_b = auc(fpr_test_b, tpr_test_b)\n",
        "\n",
        "print(roc_auc_train_b)\n",
        "print(roc_auc_test_b)"
      ],
      "metadata": {
        "colab": {
          "base_uri": "https://localhost:8080/"
        },
        "id": "FgFUYYkTtrhm",
        "outputId": "9d101a60-85a3-438d-da78-feedb4e04a48"
      },
      "execution_count": null,
      "outputs": [
        {
          "output_type": "stream",
          "name": "stdout",
          "text": [
            "0.6217173670648584\n",
            "0.6165961240589315\n"
          ]
        }
      ]
    },
    {
      "cell_type": "markdown",
      "source": [
        "**biii). The ROC AUC score of the logistic regression model on the train set is approximately 0.6217. The ROC AUC score of the logistic regression model on the test set is approximately 0.6166.**\n",
        "\n",
        "**This models AUC is slightly lower meaning it's better at determining paid and not fully paid.**\n",
        "\n",
        "**Accuracy: 0.8392484342379958**\n",
        "\n",
        "**precision = 1**\n",
        "\n",
        "**recall = 0.84**\n",
        "\n",
        "**f1_score = 0.91**"
      ],
      "metadata": {
        "id": "zVG_BPtcvz-q"
      }
    },
    {
      "cell_type": "code",
      "source": [
        "import math\n",
        "\n",
        "def calculate_total_amount_paid_back(investment, interest_rate, time_period):\n",
        "    total_amount_paid_back = investment * math.exp(interest_rate * time_period)\n",
        "    return total_amount_paid_back\n",
        "\n",
        "investment = 10  # Initial investment amount\n",
        "interest_rate = 0.06  # Annual interest rate\n",
        "time_period = 3  # Number of years\n",
        "\n",
        "total_paid_back = calculate_total_amount_paid_back(investment, interest_rate, time_period)\n",
        "print(f\"Total Amount Paid Back: ${total_paid_back:.2f}\")"
      ],
      "metadata": {
        "id": "jqU8ac4tv-dk",
        "colab": {
          "base_uri": "https://localhost:8080/"
        },
        "outputId": "49527dec-778f-468d-bde5-6e4157e74fb6"
      },
      "execution_count": null,
      "outputs": [
        {
          "output_type": "stream",
          "name": "stdout",
          "text": [
            "Total Amount Paid Back: $11.97\n"
          ]
        }
      ]
    },
    {
      "cell_type": "markdown",
      "source": [
        "**ci). The amount paid back after 3 years is: $ 11.97**"
      ],
      "metadata": {
        "id": "l2iyfK89-HyF"
      }
    },
    {
      "cell_type": "code",
      "source": [
        "def calculate_profit_or_loss(total_amount_paid_back, initial_investment):\n",
        "    if total_amount_paid_back >= initial_investment:\n",
        "        profit = total_amount_paid_back - initial_investment\n",
        "        return profit\n",
        "    else:\n",
        "        loss = initial_investment - total_amount_paid_back\n",
        "        return -loss\n",
        "\n",
        "initial_investment = 10\n",
        "total_amount_paid_back = 11.97\n",
        "\n",
        "profit_or_loss = calculate_profit_or_loss(total_amount_paid_back, initial_investment)\n",
        "print(f\"Profit or Loss: ${profit_or_loss:.2f}\")"
      ],
      "metadata": {
        "colab": {
          "base_uri": "https://localhost:8080/"
        },
        "id": "2CzROvyY-OzR",
        "outputId": "beff1b60-e432-4645-efb4-3774cf4cad45"
      },
      "execution_count": null,
      "outputs": [
        {
          "output_type": "stream",
          "name": "stdout",
          "text": [
            "Profit or Loss: $1.97\n"
          ]
        }
      ]
    },
    {
      "cell_type": "code",
      "source": [
        "value_of_investment = 11.96\n",
        "cost_of_investment = 10\n",
        "\n",
        "profit_if_paid_back = value_of_investment - cost_of_investment\n",
        "print(f\"Profit if investment is paid back in full: ${profit_if_paid_back:.2f}\")"
      ],
      "metadata": {
        "colab": {
          "base_uri": "https://localhost:8080/"
        },
        "id": "kMQqk0K1LGL1",
        "outputId": "4e9f288e-b088-4b36-e929-4a4e1f820504"
      },
      "execution_count": null,
      "outputs": [
        {
          "output_type": "stream",
          "name": "stdout",
          "text": [
            "Profit if investment is paid back in full: $1.96\n"
          ]
        }
      ]
    },
    {
      "cell_type": "markdown",
      "source": [
        "**cii). Profit if investment is paid back in full: V - c = 11.96 - 10 = $1.96**\n",
        "\n",
        "**Profit if investment is not paid back in full: V - amount received**\n"
      ],
      "metadata": {
        "id": "ev8MFaNxAyFT"
      }
    },
    {
      "cell_type": "code",
      "source": [
        "df_test['Profit'] = np.exp(df_test['IntRate'] * 3) - 1\n",
        "df_test.loc[df_test['NotFullyPaid'] == 1, 'Profit'] = -1\n",
        "max_profit = 1 * df_test['Profit'].max()\n",
        "print(max_profit)"
      ],
      "metadata": {
        "colab": {
          "base_uri": "https://localhost:8080/"
        },
        "id": "SVbnkymOBVlv",
        "outputId": "3f04bb19-c351-443a-8b71-a4d039eb78d0"
      },
      "execution_count": null,
      "outputs": [
        {
          "output_type": "stream",
          "name": "stdout",
          "text": [
            "0.8894768654675331\n"
          ]
        }
      ]
    },
    {
      "cell_type": "markdown",
      "source": [
        "**ciii). MAX Profit: 0.8895**"
      ],
      "metadata": {
        "id": "8skf8S0gLv83"
      }
    },
    {
      "cell_type": "code",
      "source": [
        "# Filter loans with interest rate >= 15%\n",
        "HighInterest = df_test[df_test['IntRate'] >= 0.15]\n",
        "\n",
        "# Calculate average profit of $1 investment in high-interest loans\n",
        "average_profit = HighInterest['Profit'].mean()\n",
        "\n",
        "# Calculate proportion of high-interest loans not paid back in full\n",
        "not_paid_back_prop =  HighInterest['NotFullyPaid'].value_counts()\n",
        "\n",
        "print(average_profit)\n",
        "print(not_paid_back_prop)"
      ],
      "metadata": {
        "colab": {
          "base_uri": "https://localhost:8080/"
        },
        "id": "nPjapT7rMX4-",
        "outputId": "6bfecac0-a593-471c-afb3-3970e98cc2a1"
      },
      "execution_count": null,
      "outputs": [
        {
          "output_type": "stream",
          "name": "stdout",
          "text": [
            "0.23986972902172937\n",
            "0    316\n",
            "1    103\n",
            "Name: NotFullyPaid, dtype: int64\n"
          ]
        }
      ]
    },
    {
      "cell_type": "code",
      "source": [
        "prop_not_paid = not_paid_back_prop[1] / not_paid_back_prop.sum()\n",
        "print(prop_not_paid)"
      ],
      "metadata": {
        "colab": {
          "base_uri": "https://localhost:8080/"
        },
        "id": "pE8qFn9OOi2z",
        "outputId": "4115ff83-9c65-4a77-d9fd-f75c885d054c"
      },
      "execution_count": null,
      "outputs": [
        {
          "output_type": "stream",
          "name": "stdout",
          "text": [
            "0.2458233890214797\n"
          ]
        }
      ]
    },
    {
      "cell_type": "markdown",
      "source": [
        "**civ). The average profit of a $1.00**\n",
        "\n",
        "**investment in one of these high-interest loans is approximately $0.24**"
      ],
      "metadata": {
        "id": "jUH1DkIxNkmi"
      }
    },
    {
      "cell_type": "code",
      "source": [
        "# Sort loans in HighInterest dataset by PredictedRisk in ascending order\n",
        "sorted_loans = df_test.sort_values('PredictedRisk', ascending=True)\n",
        "# print(sorted_loans)\n",
        "SelectedLoans = sorted_loans.head(100)\n",
        "\n",
        "print(SelectedLoans)\n",
        "\n",
        "total_profit = SelectedLoans['Profit'].sum()\n",
        "print(total_profit)"
      ],
      "metadata": {
        "colab": {
          "base_uri": "https://localhost:8080/"
        },
        "id": "8sgj0htOPLsG",
        "outputId": "ea762470-7ae0-4fb5-d676-569a47f09497"
      },
      "execution_count": null,
      "outputs": [
        {
          "output_type": "stream",
          "name": "stdout",
          "text": [
            "      CreditPolicy             Purpose  IntRate  Installment  LogAnnualInc  \\\n",
            "1102             1           all_other   0.1008        51.69     10.714418   \n",
            "733              1  debt_consolidation   0.1008       290.75     10.571317   \n",
            "4232             1         credit_card   0.1114       328.04     11.496796   \n",
            "8977             0  debt_consolidation   0.1505       312.23     10.433998   \n",
            "4728             1  debt_consolidation   0.1253       267.74     10.308953   \n",
            "...            ...                 ...      ...          ...           ...   \n",
            "6741             1      major_purchase   0.1183       297.38     10.085809   \n",
            "2858             1           all_other   0.1600       351.58     11.385047   \n",
            "9090             0  debt_consolidation   0.1316       540.33     12.676089   \n",
            "5381             1           all_other   0.1253       160.64      9.505991   \n",
            "4972             1         credit_card   0.0751       186.66     11.711776   \n",
            "\n",
            "        Dti  Fico  DaysWithCrLine  RevolBal  RevolUtil  InqLast6mths  \\\n",
            "1102  21.57   722     2309.958333      1949       48.7             0   \n",
            "733    5.17   707     2190.000000      8486       66.8             1   \n",
            "4232  12.45   732     4890.041667     33186       57.8             3   \n",
            "8977  16.45   682     2640.000000     11614       66.0             6   \n",
            "4728   9.80   702     2670.000000      5934       39.8             1   \n",
            "...     ...   ...             ...       ...        ...           ...   \n",
            "6741  20.65   732     2069.041667      2678       33.5             1   \n",
            "2858  11.85   662     2639.958333     12125       69.3             2   \n",
            "9090   1.72   722     3749.958333     66442       93.7             4   \n",
            "5381   2.05   717     3090.000000      1554       23.9             2   \n",
            "4972   1.46   747     4569.041667     10817       49.6             1   \n",
            "\n",
            "      Delinq2yrs  PubRec  NotFullyPaid  PredictedRisk    Profit  \n",
            "1102           0       0             0          False  0.353102  \n",
            "733            0       0             0          False  0.353102  \n",
            "4232           0       0             0          False  0.396822  \n",
            "8977           0       0             0          False  0.570666  \n",
            "4728           1       0             0          False  0.456301  \n",
            "...          ...     ...           ...            ...       ...  \n",
            "6741           0       0             0          False  0.426038  \n",
            "2858           0       0             0          False  0.616074  \n",
            "9090           0       0             0          False  0.484087  \n",
            "5381           0       0             0          False  0.456301  \n",
            "4972           0       0             0          False  0.252698  \n",
            "\n",
            "[100 rows x 16 columns]\n",
            "19.804292361623485\n"
          ]
        }
      ]
    },
    {
      "cell_type": "code",
      "source": [
        "not_paid_back_count = SelectedLoans['NotFullyPaid'].sum()\n",
        "print(not_paid_back_count)"
      ],
      "metadata": {
        "colab": {
          "base_uri": "https://localhost:8080/"
        },
        "id": "owHkJyFmQVjI",
        "outputId": "46b757db-a41b-4ede-e7c9-014345d04244"
      },
      "execution_count": null,
      "outputs": [
        {
          "output_type": "stream",
          "name": "stdout",
          "text": [
            "16\n"
          ]
        }
      ]
    },
    {
      "cell_type": "markdown",
      "source": [
        "cv). The profit of the investor who invested $1\n",
        "\n",
        "in each of the 100 loans and had 16 loans not paid back in full is $19.804292361623485.\n",
        "\n",
        "On the other hand, the simple strategy of investing $100\n",
        "\n",
        "in all loans yielded a profit of $20.94.\n",
        "\n",
        "Therefore, the simple strategy of investing in all loans is slightly more profitable compared to the strategy of investing $1 in each loan."
      ],
      "metadata": {
        "id": "gH6Wlv4OSP0h"
      }
    },
    {
      "cell_type": "markdown",
      "source": [
        "d). Predictive models often fail in financial situations because they assume stationarity, which means that the statistical properties of a time series remain constant over time. However, financial markets exhibit non-stationary behavior, with volatility clusters, trends, and regime shifts. This violates the assumption of stationarity and makes it challenging to accurately predict financial outcomes using traditional models.\n",
        "\n",
        "To improve the situation, analysts can continuously monitor the data, engage in feature engineering, use rolling window analysis, employ ensemble modeling, regularly validate and update models, and leverage domain expertise. These strategies help capture changing patterns and external factors that may impact financial outcomes, ensuring more accurate predictions in non-stationary environments."
      ],
      "metadata": {
        "id": "cJb7ub1pS1yp"
      }
    },
    {
      "cell_type": "code",
      "source": [
        "HighInterest = HighInterest.sort_values(by='PredictedRisk', ascending=True)\n",
        "print(SelectedLoans)\n",
        "\n",
        "SelectedLoans = HighInterest.iloc[:100]\n",
        "\n",
        "print(SelectedLoans)\n",
        "print(SelectedLoans['Profit'].sum())"
      ],
      "metadata": {
        "colab": {
          "base_uri": "https://localhost:8080/"
        },
        "id": "K4gq4Q4WkvCa",
        "outputId": "54d7a1b6-d416-49fa-adfe-18cc35b47e5b"
      },
      "execution_count": null,
      "outputs": [
        {
          "output_type": "stream",
          "name": "stdout",
          "text": [
            "      CreditPolicy             Purpose  IntRate  Installment  LogAnnualInc  \\\n",
            "5769             1  debt_consolidation   0.1565       587.77     11.289782   \n",
            "7379             1           all_other   0.1682        53.35     10.308953   \n",
            "8371             0  debt_consolidation   0.1545       334.91     11.066638   \n",
            "7527             1  debt_consolidation   0.1941       471.89     10.858999   \n",
            "1360             1           all_other   0.1588       245.69     11.461632   \n",
            "...            ...                 ...      ...          ...           ...   \n",
            "9408             0    home_improvement   0.1531       174.08     10.596635   \n",
            "2061             1  debt_consolidation   0.1695       534.41     11.082204   \n",
            "7983             0  debt_consolidation   0.1722       357.63     12.072541   \n",
            "9164             0  debt_consolidation   0.1632       423.77     10.714418   \n",
            "5811             1  debt_consolidation   0.1531       844.28     11.755872   \n",
            "\n",
            "        Dti  Fico  DaysWithCrLine  RevolBal  RevolUtil  InqLast6mths  \\\n",
            "5769  23.65   672     1890.000000     19333       61.2             2   \n",
            "7379   3.16   662     1440.000000      2761       83.7             0   \n",
            "8371  21.60   657     2729.041667      6324       95.8             4   \n",
            "7527  11.15   672     5550.000000      8340       24.2             2   \n",
            "1360  24.19   667     5375.958333       590       84.3             0   \n",
            "...     ...   ...             ...       ...        ...           ...   \n",
            "9408  21.99   662     5191.041667     25612       42.1             4   \n",
            "2061  22.85   682     2670.041667     17820       98.5             0   \n",
            "7983  26.13   657     4949.041667     69407       78.6             2   \n",
            "9164  13.60   667     1679.958333     13740       89.8             4   \n",
            "5811   9.71   682     7140.041667     31525       75.8             0   \n",
            "\n",
            "      Delinq2yrs  PubRec  NotFullyPaid  PredictedRisk    Profit  \n",
            "5769           0       0             0          False  0.599194  \n",
            "7379           0       0             0          False  0.656323  \n",
            "8371           0       0             0          False  0.589628  \n",
            "7527           0       0             0          False  0.790151  \n",
            "1360           0       0             0          False  0.610267  \n",
            "...          ...     ...           ...            ...       ...  \n",
            "9408           0       0             0          False  0.582966  \n",
            "2061           0       0             0          False  0.662795  \n",
            "7983           0       0             0          False  0.676318  \n",
            "9164           0       0             1          False -1.000000  \n",
            "5811           0       0             0          False  0.582966  \n",
            "\n",
            "[100 rows x 16 columns]\n",
            "      CreditPolicy             Purpose  IntRate  Installment  LogAnnualInc  \\\n",
            "5769             1  debt_consolidation   0.1565       587.77     11.289782   \n",
            "8250             0           all_other   0.1797       650.48     11.225243   \n",
            "6057             1      small_business   0.1947       184.49     11.695247   \n",
            "2690             1  debt_consolidation   0.1632       247.20     10.915088   \n",
            "2601             1    home_improvement   0.1568       350.02     10.950807   \n",
            "...            ...                 ...      ...          ...           ...   \n",
            "2428             1  debt_consolidation   0.1568       420.02     11.289782   \n",
            "4694             1  debt_consolidation   0.1913       734.42     11.050890   \n",
            "7164             1  debt_consolidation   0.1793       865.92     11.918391   \n",
            "9248             0    home_improvement   0.2052       681.19     13.017003   \n",
            "8690             0    home_improvement   0.1513       260.47     11.225243   \n",
            "\n",
            "        Dti  Fico  DaysWithCrLine  RevolBal  RevolUtil  InqLast6mths  \\\n",
            "5769  23.65   672     1890.000000     19333       61.2             2   \n",
            "8250  15.97   647     6242.000000     64851       78.4             2   \n",
            "6057   9.35   707     4260.000000      2379       40.3             1   \n",
            "2690   3.99   662     2189.958333      4747       93.1             1   \n",
            "2601   7.62   682     2850.000000      1815       34.2             2   \n",
            "...     ...   ...             ...       ...        ...           ...   \n",
            "2428  14.21   672     4470.000000      8664       93.2             1   \n",
            "4694   8.86   677     7350.000000      9881       99.8             0   \n",
            "7164  23.44   672     3630.000000     92965       61.9             0   \n",
            "9248  14.10   697     3539.958333     27286       56.5            10   \n",
            "8690  17.76   647     5850.000000     12902       70.1             0   \n",
            "\n",
            "      Delinq2yrs  PubRec  NotFullyPaid  PredictedRisk    Profit  \n",
            "5769           0       0             0          False  0.599194  \n",
            "8250           0       0             0          False  0.714463  \n",
            "6057           0       0             0          False  0.793376  \n",
            "2690           1       0             0          False  0.631663  \n",
            "2601           0       0             1          False -1.000000  \n",
            "...          ...     ...           ...            ...       ...  \n",
            "2428           0       0             0          False  0.600634  \n",
            "4694           0       0             0          False  0.775177  \n",
            "7164           0       0             1          False -1.000000  \n",
            "9248           1       0             0          False  0.850767  \n",
            "8690           0       0             0          False  0.574441  \n",
            "\n",
            "[100 rows x 16 columns]\n",
            "33.54178926121757\n"
          ]
        }
      ]
    },
    {
      "cell_type": "code",
      "source": [
        "import numpy as np\n",
        "\n",
        "# Given values\n",
        "principal = 10  # principal amount in dollars\n",
        "annual_interest_rate = 6 / 100  # converting the annual interest rate from percent to proportion\n",
        "time_years = 3  # time period in years\n",
        "\n",
        "# Continuous compounding formula: A = P * e^(r*t)\n",
        "amount = principal * np.exp(annual_interest_rate * time_years)\n",
        "amount"
      ],
      "metadata": {
        "id": "_nwZAIBimx9k",
        "outputId": "30c82711-68b5-47eb-85fe-8c9530405d44",
        "colab": {
          "base_uri": "https://localhost:8080/"
        }
      },
      "execution_count": null,
      "outputs": [
        {
          "output_type": "execute_result",
          "data": {
            "text/plain": [
              "11.972173631218102"
            ]
          },
          "metadata": {},
          "execution_count": 36
        }
      ]
    }
  ]
}